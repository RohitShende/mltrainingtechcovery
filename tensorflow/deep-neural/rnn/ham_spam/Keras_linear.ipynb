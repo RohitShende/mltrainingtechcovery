{
 "cells": [
  {
   "cell_type": "code",
   "execution_count": 1,
   "metadata": {
    "colab": {
     "base_uri": "https://localhost:8080/",
     "height": 1000
    },
    "colab_type": "code",
    "id": "cp3unxbg2UyZ",
    "outputId": "7e7c9d49-55a4-48f9-f7ea-b0c84d5e4435"
   },
   "outputs": [
    {
     "name": "stderr",
     "output_type": "stream",
     "text": [
      "Using TensorFlow backend.\n"
     ]
    },
    {
     "name": "stdout",
     "output_type": "stream",
     "text": [
      "WARNING:tensorflow:From /usr/local/anaconda3/lib/python3.7/site-packages/keras/backend/tensorflow_backend.py:74: The name tf.get_default_graph is deprecated. Please use tf.compat.v1.get_default_graph instead.\n",
      "\n",
      "WARNING:tensorflow:From /usr/local/anaconda3/lib/python3.7/site-packages/keras/backend/tensorflow_backend.py:517: The name tf.placeholder is deprecated. Please use tf.compat.v1.placeholder instead.\n",
      "\n",
      "WARNING:tensorflow:From /usr/local/anaconda3/lib/python3.7/site-packages/keras/backend/tensorflow_backend.py:4138: The name tf.random_uniform is deprecated. Please use tf.random.uniform instead.\n",
      "\n",
      "WARNING:tensorflow:From /usr/local/anaconda3/lib/python3.7/site-packages/keras/optimizers.py:790: The name tf.train.Optimizer is deprecated. Please use tf.compat.v1.train.Optimizer instead.\n",
      "\n",
      "WARNING:tensorflow:From /usr/local/anaconda3/lib/python3.7/site-packages/keras/backend/tensorflow_backend.py:174: The name tf.get_default_session is deprecated. Please use tf.compat.v1.get_default_session instead.\n",
      "\n",
      "WARNING:tensorflow:From /usr/local/anaconda3/lib/python3.7/site-packages/keras/backend/tensorflow_backend.py:181: The name tf.ConfigProto is deprecated. Please use tf.compat.v1.ConfigProto instead.\n",
      "\n",
      "WARNING:tensorflow:From /usr/local/anaconda3/lib/python3.7/site-packages/keras/backend/tensorflow_backend.py:186: The name tf.Session is deprecated. Please use tf.compat.v1.Session instead.\n",
      "\n",
      "WARNING:tensorflow:From /usr/local/anaconda3/lib/python3.7/site-packages/keras/backend/tensorflow_backend.py:190: The name tf.global_variables is deprecated. Please use tf.compat.v1.global_variables instead.\n",
      "\n",
      "WARNING:tensorflow:From /usr/local/anaconda3/lib/python3.7/site-packages/keras/backend/tensorflow_backend.py:199: The name tf.is_variable_initialized is deprecated. Please use tf.compat.v1.is_variable_initialized instead.\n",
      "\n",
      "WARNING:tensorflow:From /usr/local/anaconda3/lib/python3.7/site-packages/keras/backend/tensorflow_backend.py:206: The name tf.variables_initializer is deprecated. Please use tf.compat.v1.variables_initializer instead.\n",
      "\n",
      "Linear regression model is initialized with weights w: 1.58, b: 0.00\n",
      "WARNING:tensorflow:From /usr/local/anaconda3/lib/python3.7/site-packages/keras/backend/tensorflow_backend.py:986: The name tf.assign_add is deprecated. Please use tf.compat.v1.assign_add instead.\n",
      "\n",
      "WARNING:tensorflow:From /usr/local/anaconda3/lib/python3.7/site-packages/keras/backend/tensorflow_backend.py:973: The name tf.assign is deprecated. Please use tf.compat.v1.assign instead.\n",
      "\n",
      "Epoch 1/30\n",
      "200/200 [==============================] - 0s 861us/step - loss: 0.5079 - mean_squared_error: 0.5079\n",
      "Epoch 2/30\n",
      "200/200 [==============================] - 0s 477us/step - loss: 0.1100 - mean_squared_error: 0.1100\n",
      "Epoch 3/30\n",
      "200/200 [==============================] - 0s 589us/step - loss: 0.1083 - mean_squared_error: 0.1083\n",
      "Epoch 4/30\n",
      "200/200 [==============================] - 0s 691us/step - loss: 0.1067 - mean_squared_error: 0.1067\n",
      "Epoch 5/30\n",
      "200/200 [==============================] - 0s 667us/step - loss: 0.1053 - mean_squared_error: 0.1053\n",
      "Epoch 6/30\n",
      "200/200 [==============================] - 0s 617us/step - loss: 0.1039 - mean_squared_error: 0.1039\n",
      "Epoch 7/30\n",
      "200/200 [==============================] - 0s 501us/step - loss: 0.1027 - mean_squared_error: 0.1027\n",
      "Epoch 8/30\n",
      "200/200 [==============================] - 0s 463us/step - loss: 0.1015 - mean_squared_error: 0.1015\n",
      "Epoch 9/30\n",
      "200/200 [==============================] - 0s 484us/step - loss: 0.1005 - mean_squared_error: 0.1005\n",
      "Epoch 10/30\n",
      "200/200 [==============================] - 0s 537us/step - loss: 0.0995 - mean_squared_error: 0.0995\n",
      "Epoch 11/30\n",
      "200/200 [==============================] - 0s 525us/step - loss: 0.0986 - mean_squared_error: 0.0986\n",
      "Epoch 12/30\n",
      "200/200 [==============================] - 0s 462us/step - loss: 0.0977 - mean_squared_error: 0.0977\n",
      "Epoch 13/30\n",
      "200/200 [==============================] - 0s 607us/step - loss: 0.0970 - mean_squared_error: 0.0970\n",
      "Epoch 14/30\n",
      "200/200 [==============================] - 0s 577us/step - loss: 0.0962 - mean_squared_error: 0.0962\n",
      "Epoch 15/30\n",
      "200/200 [==============================] - 0s 556us/step - loss: 0.0956 - mean_squared_error: 0.0956\n",
      "Epoch 16/30\n",
      "200/200 [==============================] - 0s 550us/step - loss: 0.0950 - mean_squared_error: 0.0950\n",
      "Epoch 17/30\n",
      "200/200 [==============================] - 0s 577us/step - loss: 0.0944 - mean_squared_error: 0.0944\n",
      "Epoch 18/30\n",
      "200/200 [==============================] - 0s 502us/step - loss: 0.0939 - mean_squared_error: 0.0939\n",
      "Epoch 19/30\n",
      "200/200 [==============================] - 0s 631us/step - loss: 0.0934 - mean_squared_error: 0.0934\n",
      "Epoch 20/30\n",
      "200/200 [==============================] - 0s 535us/step - loss: 0.0929 - mean_squared_error: 0.0929\n",
      "Epoch 21/30\n",
      "200/200 [==============================] - 0s 524us/step - loss: 0.0925 - mean_squared_error: 0.0925\n",
      "Epoch 22/30\n",
      "200/200 [==============================] - 0s 457us/step - loss: 0.0921 - mean_squared_error: 0.0921\n",
      "Epoch 23/30\n",
      "200/200 [==============================] - 0s 502us/step - loss: 0.0917 - mean_squared_error: 0.0917\n",
      "Epoch 24/30\n",
      "200/200 [==============================] - 0s 565us/step - loss: 0.0914 - mean_squared_error: 0.0914\n",
      "Epoch 25/30\n",
      "200/200 [==============================] - 0s 572us/step - loss: 0.0911 - mean_squared_error: 0.0911\n",
      "Epoch 26/30\n",
      "200/200 [==============================] - 0s 524us/step - loss: 0.0908 - mean_squared_error: 0.0908\n",
      "Epoch 27/30\n",
      "200/200 [==============================] - 0s 448us/step - loss: 0.0905 - mean_squared_error: 0.0905\n",
      "Epoch 28/30\n",
      "200/200 [==============================] - 0s 487us/step - loss: 0.0903 - mean_squared_error: 0.0903\n",
      "Epoch 29/30\n",
      "200/200 [==============================] - 0s 467us/step - loss: 0.0901 - mean_squared_error: 0.0901\n",
      "Epoch 30/30\n",
      "200/200 [==============================] - 0s 488us/step - loss: 0.0898 - mean_squared_error: 0.0898\n",
      "Linear regression model is trained to have weight w: 3.68, b: 0.58\n"
     ]
    },
    {
     "data": {
      "image/png": "[encoded data removed]",
      "text/plain": [
       "<Figure size 432x288 with 1 Axes>"
      ]
     },
     "metadata": {
      "needs_background": "light"
     },
     "output_type": "display_data"
    }
   ],
   "source": [
    "import keras\n",
    "from keras.models import Sequential\n",
    "from keras.layers import Dense, Activation\n",
    "import numpy as np\n",
    "import matplotlib.pyplot as plt \n",
    "%matplotlib inline\n",
    " \n",
    "x = data = np.linspace(1,2,200)\n",
    "y = x*4 + np.random.randn(*x.shape) * 0.3\n",
    "\n",
    "\n",
    "model = Sequential()\n",
    "model.add(Dense(1, input_dim=1, activation='linear'))\n",
    "\n",
    "model.compile(optimizer='sgd', loss='mse', metrics=['mse'])\n",
    "\n",
    "weights = model.layers[0].get_weights()\n",
    "w_init = weights[0][0][0]\n",
    "b_init = weights[1][0]\n",
    "print('Linear regression model is initialized with weights w: %.2f, b: %.2f' % (w_init, b_init)) \n",
    "\n",
    "\n",
    "model.fit(x,y, batch_size=1, epochs=30, shuffle=False)\n",
    "\n",
    "weights = model.layers[0].get_weights()\n",
    "w_final = weights[0][0][0]\n",
    "b_final = weights[1][0]\n",
    "print('Linear regression model is trained to have weight w: %.2f, b: %.2f' % (w_final, b_final))\n",
    "\n",
    "predict = model.predict(data)\n",
    "\n",
    "plt.plot(data, predict, 'b', data , y, 'k.')\n",
    "plt.show()"
   ]
  },
  {
   "cell_type": "code",
   "execution_count": 0,
   "metadata": {
    "colab": {},
    "colab_type": "code",
    "id": "dWxu1L4I2_WL"
   },
   "outputs": [],
   "source": []
  }
 ],
 "metadata": {
  "colab": {
   "name": "Keras_linear.ipynb",
   "provenance": []
  },
  "kernelspec": {
   "display_name": "Python 3",
   "language": "python",
   "name": "python3"
  },
  "language_info": {
   "codemirror_mode": {
    "name": "ipython",
    "version": 3
   },
   "file_extension": ".py",
   "mimetype": "text/x-python",
   "name": "python",
   "nbconvert_exporter": "python",
   "pygments_lexer": "ipython3",
   "version": "3.7.4"
  }
 },
 "nbformat": 4,
 "nbformat_minor": 1
}
