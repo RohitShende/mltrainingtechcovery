{
 "cells": [
  {
   "cell_type": "code",
   "execution_count": 2,
   "metadata": {
    "colab": {
     "base_uri": "https://localhost:8080/",
     "height": 85
    },
    "colab_type": "code",
    "id": "JjSi-1aWZxub",
    "outputId": "0c4a7745-cc6d-4505-c9d6-b2d3c31e7e4b"
   },
   "outputs": [
    {
     "name": "stdout",
     "output_type": "stream",
     "text": [
      "Cloning into 'Face-recognition-using-CNN'...\n",
      "remote: Enumerating objects: 36, done.\u001b[K\n",
      "remote: Total 36 (delta 0), reused 0 (delta 0), pack-reused 36\u001b[K\n",
      "Unpacking objects: 100% (36/36), done.\n"
     ]
    }
   ],
   "source": [
    "!git clone https://github.com/Fatemeh-MA/Face-recognition-using-CNN.git"
   ]
  },
  {
   "cell_type": "code",
   "execution_count": 3,
   "metadata": {
    "colab": {
     "base_uri": "https://localhost:8080/",
     "height": 51
    },
    "colab_type": "code",
    "id": "MET9WPVFaWm6",
    "outputId": "4bce2d35-d241-47db-8531-acf876ae1adb"
   },
   "outputs": [
    {
     "name": "stdout",
     "output_type": "stream",
     "text": [
      "Archive:  /content/Face-recognition-using-CNN/ORL_faces.zip\n",
      "  inflating: ORL_faces.npz           \n"
     ]
    }
   ],
   "source": [
    "!unzip /content/Face-recognition-using-CNN/ORL_faces.zip"
   ]
  },
  {
   "cell_type": "code",
   "execution_count": 0,
   "metadata": {
    "colab": {},
    "colab_type": "code",
    "id": "iOkBFPTVbBds"
   },
   "outputs": [],
   "source": []
  },
  {
   "cell_type": "code",
   "execution_count": 1,
   "metadata": {
    "colab": {
     "base_uri": "https://localhost:8080/",
     "height": 34
    },
    "colab_type": "code",
    "id": "zcroWMKdbHzi",
    "outputId": "13dd269c-f6ff-4628-d42b-b5be293c1c35"
   },
   "outputs": [
    {
     "name": "stderr",
     "output_type": "stream",
     "text": [
      "Using TensorFlow backend.\n"
     ]
    }
   ],
   "source": [
    "import keras\n",
    "from keras.models import Sequential\n",
    "from keras.layers import Conv2D, MaxPooling2D, Dense, Flatten, Dropout\n",
    "from keras.optimizers import Adam\n",
    "from keras.callbacks import TensorBoard\n",
    "\n",
    "import numpy as np\n",
    "import pandas as pd\n",
    "import matplotlib.pyplot as plt\n",
    "from sklearn.model_selection import train_test_split\n",
    "\n",
    "from sklearn.metrics import confusion_matrix\n",
    "from sklearn.metrics import classification_report\n",
    "from sklearn.metrics import roc_curve, auc\n",
    "from sklearn.metrics import accuracy_score\n",
    "from keras.utils import np_utils\n",
    "import itertools"
   ]
  },
  {
   "cell_type": "code",
   "execution_count": 2,
   "metadata": {
    "colab": {
     "base_uri": "https://localhost:8080/",
     "height": 323
    },
    "colab_type": "code",
    "id": "hv3wjBu7beJC",
    "outputId": "3a5e15ac-a569-428e-809a-03b706b4e1dd"
   },
   "outputs": [
    {
     "name": "stdout",
     "output_type": "stream",
     "text": [
      "(240, 10304)\n",
      "x_train : [[0.1882353  0.19215687 0.1764706  ... 0.18431373 0.18039216 0.18039216]\n",
      " [0.23529412 0.23529412 0.24313726 ... 0.1254902  0.13333334 0.13333334]\n",
      " [0.15294118 0.17254902 0.20784314 ... 0.11372549 0.10196079 0.11372549]\n",
      " ...\n",
      " [0.44705883 0.45882353 0.44705883 ... 0.38431373 0.3764706  0.38431373]\n",
      " [0.4117647  0.4117647  0.41960785 ... 0.21176471 0.18431373 0.16078432]\n",
      " [0.45490196 0.44705883 0.45882353 ... 0.37254903 0.39215687 0.39607844]]\n",
      "Y-train shape: [ 0  0  0  0  0  0  0  0  0  0  0  0  1  1  1  1  1  1  1  1  1  1  1  1\n",
      "  2  2  2  2  2  2  2  2  2  2  2  2  3  3  3  3  3  3  3  3  3  3  3  3\n",
      "  4  4  4  4  4  4  4  4  4  4  4  4  5  5  5  5  5  5  5  5  5  5  5  5\n",
      "  6  6  6  6  6  6  6  6  6  6  6  6  7  7  7  7  7  7  7  7  7  7  7  7\n",
      "  8  8  8  8  8  8  8  8  8  8  8  8  9  9  9  9  9  9  9  9  9  9  9  9\n",
      " 10 10 10 10 10 10 10 10 10 10 10 10 11 11 11 11 11 11 11 11 11 11 11 11\n",
      " 12 12 12 12 12 12 12 12 12 12 12 12 13 13 13 13 13 13 13 13 13 13 13 13\n",
      " 14 14 14 14 14 14 14 14 14 14 14 14 15 15 15 15 15 15 15 15 15 15 15 15\n",
      " 16 16 16 16 16 16 16 16 16 16 16 16 17 17 17 17 17 17 17 17 17 17 17 17\n",
      " 18 18 18 18 18 18 18 18 18 18 18 18 19 19 19 19 19 19 19 19 19 19 19 19]\n",
      "x_test shape: (160, 10304)\n"
     ]
    }
   ],
   "source": [
    "#load dataset\n",
    "data = np.load('ORL_faces.npz') \n",
    "# there are 240 training images and 160 testing images\n",
    "#each one is of size 112*92\n",
    "# load the \"Train Images\"\n",
    "x_train = data['trainX']\n",
    "#normalize every image\n",
    "x_train = np.array(x_train,dtype='float32')/255\n",
    "print(x_train.shape)\n",
    "\n",
    "x_test = data['testX']\n",
    "x_test = np.array(x_test,dtype='float32')/255\n",
    "\n",
    "# load the Label of Images\n",
    "y_train= data['trainY']\n",
    "y_test= data['testY']\n",
    "\n",
    "# show the train and test Data format\n",
    "print('x_train : {}'.format(x_train[:]))\n",
    "print('Y-train shape: {}'.format(y_train))\n",
    "print('x_test shape: {}'.format(x_test.shape))"
   ]
  },
  {
   "cell_type": "code",
   "execution_count": 3,
   "metadata": {
    "colab": {},
    "colab_type": "code",
    "id": "uckbj9sJbiAv"
   },
   "outputs": [],
   "source": [
    "x_train, x_valid, y_train, y_valid= train_test_split(\n",
    "    x_train, y_train, test_size=.05, random_state=1234,)"
   ]
  },
  {
   "cell_type": "code",
   "execution_count": 4,
   "metadata": {
    "colab": {
     "base_uri": "https://localhost:8080/",
     "height": 51
    },
    "colab_type": "code",
    "id": "Kav2Vai3bm7Q",
    "outputId": "a8c39f3b-bf26-44ee-a53f-d4930b00d427"
   },
   "outputs": [
    {
     "name": "stdout",
     "output_type": "stream",
     "text": [
      "x_train shape: 228\n",
      "x_test shape: (160,)\n"
     ]
    }
   ],
   "source": [
    "im_rows=112\n",
    "im_cols=92\n",
    "batch_size=512\n",
    "im_shape=(im_rows, im_cols, 1)\n",
    "\n",
    "#change the size of images\n",
    "x_train = x_train.reshape(x_train.shape[0], *im_shape)\n",
    "x_test = x_test.reshape(x_test.shape[0], *im_shape)\n",
    "x_valid = x_valid.reshape(x_valid.shape[0], *im_shape)\n",
    "\n",
    "print('x_train shape: {}'.format(y_train.shape[0]))\n",
    "print('x_test shape: {}'.format(y_test.shape))"
   ]
  },
  {
   "cell_type": "code",
   "execution_count": 5,
   "metadata": {
    "colab": {},
    "colab_type": "code",
    "id": "_XF-VOgMbqFm"
   },
   "outputs": [],
   "source": [
    "cnn_model= Sequential([\n",
    "    Conv2D(filters=36, kernel_size=7, activation='relu', input_shape= im_shape),\n",
    "    MaxPooling2D(pool_size=2),\n",
    "    Conv2D(filters=54, kernel_size=5, activation='relu', input_shape= im_shape),\n",
    "    MaxPooling2D(pool_size=2),\n",
    "    Flatten(),\n",
    "    Dense(2024, activation='relu'),\n",
    "     Dropout(0.5),\n",
    "    Dense(1024, activation='relu'),\n",
    "    Dropout(0.5),\n",
    "    Dense(512, activation='relu'),\n",
    "    Dropout(0.5),\n",
    "    #20 is the number of outputs\n",
    "    Dense(20, activation='softmax')  \n",
    "])\n",
    "\n",
    "cnn_model.compile(\n",
    "    loss='sparse_categorical_crossentropy',#'categorical_crossentropy',\n",
    "    optimizer=Adam(lr=0.0001),\n",
    "    metrics=['accuracy']\n",
    ")"
   ]
  },
  {
   "cell_type": "code",
   "execution_count": 6,
   "metadata": {
    "colab": {
     "base_uri": "https://localhost:8080/",
     "height": 561
    },
    "colab_type": "code",
    "id": "TU9kZsd4b3Ao",
    "outputId": "cebb3e7b-95c0-4e0e-b063-ea1d9c423b3e"
   },
   "outputs": [
    {
     "name": "stdout",
     "output_type": "stream",
     "text": [
      "Model: \"sequential_1\"\n",
      "_________________________________________________________________\n",
      "Layer (type)                 Output Shape              Param #   \n",
      "=================================================================\n",
      "conv2d_1 (Conv2D)            (None, 106, 86, 36)       1800      \n",
      "_________________________________________________________________\n",
      "max_pooling2d_1 (MaxPooling2 (None, 53, 43, 36)        0         \n",
      "_________________________________________________________________\n",
      "conv2d_2 (Conv2D)            (None, 49, 39, 54)        48654     \n",
      "_________________________________________________________________\n",
      "max_pooling2d_2 (MaxPooling2 (None, 24, 19, 54)        0         \n",
      "_________________________________________________________________\n",
      "flatten_1 (Flatten)          (None, 24624)             0         \n",
      "_________________________________________________________________\n",
      "dense_1 (Dense)              (None, 2024)              49841000  \n",
      "_________________________________________________________________\n",
      "dropout_1 (Dropout)          (None, 2024)              0         \n",
      "_________________________________________________________________\n",
      "dense_2 (Dense)              (None, 1024)              2073600   \n",
      "_________________________________________________________________\n",
      "dropout_2 (Dropout)          (None, 1024)              0         \n",
      "_________________________________________________________________\n",
      "dense_3 (Dense)              (None, 512)               524800    \n",
      "_________________________________________________________________\n",
      "dropout_3 (Dropout)          (None, 512)               0         \n",
      "_________________________________________________________________\n",
      "dense_4 (Dense)              (None, 20)                10260     \n",
      "=================================================================\n",
      "Total params: 52,500,114\n",
      "Trainable params: 52,500,114\n",
      "Non-trainable params: 0\n",
      "_________________________________________________________________\n"
     ]
    }
   ],
   "source": [
    "cnn_model.summary()\n"
   ]
  },
  {
   "cell_type": "code",
   "execution_count": 7,
   "metadata": {
    "colab": {
     "base_uri": "https://localhost:8080/",
     "height": 1000
    },
    "colab_type": "code",
    "id": "d0AEUJsib7NJ",
    "outputId": "cf7d17d9-56d6-4162-dede-184caa1cc762"
   },
   "outputs": [
    {
     "name": "stdout",
     "output_type": "stream",
     "text": [
      "Train on 228 samples, validate on 12 samples\n",
      "Epoch 1/100\n",
      " - 3s - loss: 3.0177 - accuracy: 0.0439 - val_loss: 3.0024 - val_accuracy: 0.0833\n",
      "Epoch 2/100\n",
      " - 3s - loss: 2.9963 - accuracy: 0.0789 - val_loss: 3.0143 - val_accuracy: 0.0000e+00\n",
      "Epoch 3/100\n",
      " - 3s - loss: 3.0363 - accuracy: 0.0395 - val_loss: 3.0173 - val_accuracy: 0.0000e+00\n",
      "Epoch 4/100\n",
      " - 3s - loss: 3.0040 - accuracy: 0.0702 - val_loss: 3.0215 - val_accuracy: 0.0000e+00\n",
      "Epoch 5/100\n",
      " - 2s - loss: 3.0077 - accuracy: 0.0307 - val_loss: 3.0246 - val_accuracy: 0.0000e+00\n",
      "Epoch 6/100\n",
      " - 2s - loss: 2.9995 - accuracy: 0.0614 - val_loss: 3.0199 - val_accuracy: 0.0000e+00\n",
      "Epoch 7/100\n",
      " - 2s - loss: 2.9969 - accuracy: 0.0658 - val_loss: 3.0168 - val_accuracy: 0.0000e+00\n",
      "Epoch 8/100\n",
      " - 2s - loss: 3.0032 - accuracy: 0.0307 - val_loss: 3.0114 - val_accuracy: 0.0000e+00\n",
      "Epoch 9/100\n",
      " - 2s - loss: 2.9910 - accuracy: 0.0658 - val_loss: 3.0060 - val_accuracy: 0.0000e+00\n",
      "Epoch 10/100\n",
      " - 2s - loss: 2.9658 - accuracy: 0.0746 - val_loss: 2.9993 - val_accuracy: 0.0000e+00\n",
      "Epoch 11/100\n",
      " - 2s - loss: 2.9964 - accuracy: 0.0658 - val_loss: 2.9949 - val_accuracy: 0.0000e+00\n",
      "Epoch 12/100\n",
      " - 2s - loss: 2.9652 - accuracy: 0.0746 - val_loss: 2.9936 - val_accuracy: 0.0833\n",
      "Epoch 13/100\n",
      " - 2s - loss: 2.9481 - accuracy: 0.0921 - val_loss: 2.9940 - val_accuracy: 0.0833\n",
      "Epoch 14/100\n",
      " - 2s - loss: 2.9576 - accuracy: 0.1272 - val_loss: 2.9937 - val_accuracy: 0.0833\n",
      "Epoch 15/100\n",
      " - 2s - loss: 2.9635 - accuracy: 0.0789 - val_loss: 2.9914 - val_accuracy: 0.0833\n",
      "Epoch 16/100\n",
      " - 2s - loss: 2.9623 - accuracy: 0.1009 - val_loss: 2.9879 - val_accuracy: 0.0833\n",
      "Epoch 17/100\n",
      " - 2s - loss: 2.9425 - accuracy: 0.0877 - val_loss: 2.9845 - val_accuracy: 0.0833\n",
      "Epoch 18/100\n",
      " - 2s - loss: 2.9362 - accuracy: 0.0965 - val_loss: 2.9818 - val_accuracy: 0.0833\n",
      "Epoch 19/100\n",
      " - 2s - loss: 2.9273 - accuracy: 0.1272 - val_loss: 2.9792 - val_accuracy: 0.0833\n",
      "Epoch 20/100\n",
      " - 2s - loss: 2.9432 - accuracy: 0.1140 - val_loss: 2.9742 - val_accuracy: 0.1667\n",
      "Epoch 21/100\n",
      " - 2s - loss: 2.9176 - accuracy: 0.1842 - val_loss: 2.9699 - val_accuracy: 0.1667\n",
      "Epoch 22/100\n",
      " - 2s - loss: 2.9142 - accuracy: 0.1447 - val_loss: 2.9643 - val_accuracy: 0.1667\n",
      "Epoch 23/100\n",
      " - 2s - loss: 2.8829 - accuracy: 0.1623 - val_loss: 2.9577 - val_accuracy: 0.0833\n",
      "Epoch 24/100\n",
      " - 2s - loss: 2.8966 - accuracy: 0.1316 - val_loss: 2.9499 - val_accuracy: 0.0833\n",
      "Epoch 25/100\n",
      " - 2s - loss: 2.8894 - accuracy: 0.1579 - val_loss: 2.9425 - val_accuracy: 0.0833\n",
      "Epoch 26/100\n",
      " - 3s - loss: 2.8747 - accuracy: 0.2061 - val_loss: 2.9343 - val_accuracy: 0.0833\n",
      "Epoch 27/100\n",
      " - 3s - loss: 2.8329 - accuracy: 0.2149 - val_loss: 2.9237 - val_accuracy: 0.0833\n",
      "Epoch 28/100\n",
      " - 3s - loss: 2.8416 - accuracy: 0.2018 - val_loss: 2.9083 - val_accuracy: 0.0833\n",
      "Epoch 29/100\n",
      " - 3s - loss: 2.8228 - accuracy: 0.1447 - val_loss: 2.8926 - val_accuracy: 0.0833\n",
      "Epoch 30/100\n",
      " - 2s - loss: 2.8078 - accuracy: 0.1886 - val_loss: 2.8728 - val_accuracy: 0.0833\n",
      "Epoch 31/100\n",
      " - 3s - loss: 2.7855 - accuracy: 0.1842 - val_loss: 2.8503 - val_accuracy: 0.0833\n",
      "Epoch 32/100\n",
      " - 3s - loss: 2.7668 - accuracy: 0.2061 - val_loss: 2.8182 - val_accuracy: 0.0833\n",
      "Epoch 33/100\n",
      " - 3s - loss: 2.7467 - accuracy: 0.2149 - val_loss: 2.7885 - val_accuracy: 0.1667\n",
      "Epoch 34/100\n",
      " - 3s - loss: 2.7238 - accuracy: 0.2325 - val_loss: 2.7559 - val_accuracy: 0.1667\n",
      "Epoch 35/100\n",
      " - 3s - loss: 2.6654 - accuracy: 0.2544 - val_loss: 2.7239 - val_accuracy: 0.1667\n",
      "Epoch 36/100\n",
      " - 3s - loss: 2.6630 - accuracy: 0.2588 - val_loss: 2.6861 - val_accuracy: 0.1667\n",
      "Epoch 37/100\n",
      " - 3s - loss: 2.6350 - accuracy: 0.2719 - val_loss: 2.6427 - val_accuracy: 0.1667\n",
      "Epoch 38/100\n",
      " - 3s - loss: 2.5750 - accuracy: 0.2544 - val_loss: 2.5975 - val_accuracy: 0.1667\n",
      "Epoch 39/100\n",
      " - 3s - loss: 2.5298 - accuracy: 0.2675 - val_loss: 2.5455 - val_accuracy: 0.3333\n",
      "Epoch 40/100\n",
      " - 3s - loss: 2.4891 - accuracy: 0.3377 - val_loss: 2.4911 - val_accuracy: 0.3333\n",
      "Epoch 41/100\n",
      " - 4s - loss: 2.5117 - accuracy: 0.2851 - val_loss: 2.4333 - val_accuracy: 0.3333\n",
      "Epoch 42/100\n",
      " - 3s - loss: 2.3821 - accuracy: 0.3684 - val_loss: 2.3769 - val_accuracy: 0.3333\n",
      "Epoch 43/100\n",
      " - 3s - loss: 2.3940 - accuracy: 0.3333 - val_loss: 2.3185 - val_accuracy: 0.4167\n",
      "Epoch 44/100\n",
      " - 3s - loss: 2.3430 - accuracy: 0.3640 - val_loss: 2.2567 - val_accuracy: 0.4167\n",
      "Epoch 45/100\n",
      " - 3s - loss: 2.2647 - accuracy: 0.3553 - val_loss: 2.2010 - val_accuracy: 0.4167\n",
      "Epoch 46/100\n",
      " - 3s - loss: 2.1807 - accuracy: 0.4123 - val_loss: 2.1441 - val_accuracy: 0.5000\n",
      "Epoch 47/100\n",
      " - 3s - loss: 2.1563 - accuracy: 0.3772 - val_loss: 2.0785 - val_accuracy: 0.5000\n",
      "Epoch 48/100\n",
      " - 3s - loss: 2.0870 - accuracy: 0.4386 - val_loss: 2.0093 - val_accuracy: 0.5000\n",
      "Epoch 49/100\n",
      " - 3s - loss: 2.0687 - accuracy: 0.4211 - val_loss: 1.9409 - val_accuracy: 0.5000\n",
      "Epoch 50/100\n",
      " - 3s - loss: 1.9336 - accuracy: 0.4649 - val_loss: 1.8728 - val_accuracy: 0.5000\n",
      "Epoch 51/100\n",
      " - 3s - loss: 1.9136 - accuracy: 0.4605 - val_loss: 1.7957 - val_accuracy: 0.5833\n",
      "Epoch 52/100\n",
      " - 3s - loss: 1.9318 - accuracy: 0.4430 - val_loss: 1.7281 - val_accuracy: 0.6667\n",
      "Epoch 53/100\n",
      " - 3s - loss: 1.8401 - accuracy: 0.4254 - val_loss: 1.6614 - val_accuracy: 0.6667\n",
      "Epoch 54/100\n",
      " - 3s - loss: 1.8249 - accuracy: 0.4518 - val_loss: 1.5940 - val_accuracy: 0.6667\n",
      "Epoch 55/100\n",
      " - 3s - loss: 1.6420 - accuracy: 0.5263 - val_loss: 1.5119 - val_accuracy: 0.6667\n",
      "Epoch 56/100\n",
      " - 3s - loss: 1.5876 - accuracy: 0.5702 - val_loss: 1.4383 - val_accuracy: 0.6667\n",
      "Epoch 57/100\n",
      " - 3s - loss: 1.6071 - accuracy: 0.5395 - val_loss: 1.3674 - val_accuracy: 0.7500\n",
      "Epoch 58/100\n",
      " - 3s - loss: 1.5722 - accuracy: 0.5351 - val_loss: 1.3024 - val_accuracy: 0.8333\n",
      "Epoch 59/100\n",
      " - 3s - loss: 1.3383 - accuracy: 0.6096 - val_loss: 1.2343 - val_accuracy: 0.6667\n",
      "Epoch 60/100\n",
      " - 3s - loss: 1.4285 - accuracy: 0.5482 - val_loss: 1.1412 - val_accuracy: 0.8333\n",
      "Epoch 61/100\n",
      " - 3s - loss: 1.3076 - accuracy: 0.6491 - val_loss: 1.0440 - val_accuracy: 0.8333\n",
      "Epoch 62/100\n",
      " - 3s - loss: 1.2760 - accuracy: 0.6228 - val_loss: 0.9773 - val_accuracy: 0.9167\n",
      "Epoch 63/100\n",
      " - 3s - loss: 1.3785 - accuracy: 0.5658 - val_loss: 0.8928 - val_accuracy: 0.9167\n",
      "Epoch 64/100\n",
      " - 3s - loss: 1.2454 - accuracy: 0.5833 - val_loss: 0.8350 - val_accuracy: 1.0000\n",
      "Epoch 65/100\n",
      " - 3s - loss: 1.0974 - accuracy: 0.6667 - val_loss: 0.7900 - val_accuracy: 1.0000\n",
      "Epoch 66/100\n",
      " - 3s - loss: 1.1094 - accuracy: 0.6754 - val_loss: 0.7488 - val_accuracy: 1.0000\n",
      "Epoch 67/100\n",
      " - 3s - loss: 0.9973 - accuracy: 0.7281 - val_loss: 0.6985 - val_accuracy: 1.0000\n",
      "Epoch 68/100\n",
      " - 3s - loss: 0.9841 - accuracy: 0.7281 - val_loss: 0.6597 - val_accuracy: 1.0000\n",
      "Epoch 69/100\n",
      " - 3s - loss: 0.8823 - accuracy: 0.7412 - val_loss: 0.6141 - val_accuracy: 1.0000\n",
      "Epoch 70/100\n",
      " - 3s - loss: 0.8653 - accuracy: 0.7500 - val_loss: 0.5575 - val_accuracy: 1.0000\n",
      "Epoch 71/100\n",
      " - 3s - loss: 0.8203 - accuracy: 0.7851 - val_loss: 0.4840 - val_accuracy: 1.0000\n",
      "Epoch 72/100\n",
      " - 3s - loss: 0.8582 - accuracy: 0.7149 - val_loss: 0.4384 - val_accuracy: 1.0000\n",
      "Epoch 73/100\n",
      " - 3s - loss: 0.8077 - accuracy: 0.7807 - val_loss: 0.4233 - val_accuracy: 1.0000\n",
      "Epoch 74/100\n",
      " - 3s - loss: 0.8289 - accuracy: 0.7632 - val_loss: 0.3776 - val_accuracy: 1.0000\n",
      "Epoch 75/100\n",
      " - 3s - loss: 0.7447 - accuracy: 0.7807 - val_loss: 0.3384 - val_accuracy: 1.0000\n",
      "Epoch 76/100\n",
      " - 3s - loss: 0.7127 - accuracy: 0.8026 - val_loss: 0.3171 - val_accuracy: 1.0000\n",
      "Epoch 77/100\n",
      " - 3s - loss: 0.6746 - accuracy: 0.8026 - val_loss: 0.3151 - val_accuracy: 1.0000\n",
      "Epoch 78/100\n",
      " - 4s - loss: 0.6390 - accuracy: 0.8202 - val_loss: 0.3276 - val_accuracy: 0.9167\n",
      "Epoch 79/100\n",
      " - 4s - loss: 0.5698 - accuracy: 0.8465 - val_loss: 0.2873 - val_accuracy: 1.0000\n",
      "Epoch 80/100\n",
      " - 4s - loss: 0.5837 - accuracy: 0.8509 - val_loss: 0.2451 - val_accuracy: 1.0000\n",
      "Epoch 81/100\n",
      " - 4s - loss: 0.5163 - accuracy: 0.8860 - val_loss: 0.2233 - val_accuracy: 1.0000\n",
      "Epoch 82/100\n",
      " - 4s - loss: 0.4567 - accuracy: 0.8947 - val_loss: 0.2083 - val_accuracy: 1.0000\n",
      "Epoch 83/100\n",
      " - 4s - loss: 0.4782 - accuracy: 0.8816 - val_loss: 0.1935 - val_accuracy: 1.0000\n",
      "Epoch 84/100\n",
      " - 3s - loss: 0.4149 - accuracy: 0.8772 - val_loss: 0.1993 - val_accuracy: 0.9167\n",
      "Epoch 85/100\n",
      " - 4s - loss: 0.4491 - accuracy: 0.8816 - val_loss: 0.1793 - val_accuracy: 1.0000\n",
      "Epoch 86/100\n",
      " - 3s - loss: 0.4432 - accuracy: 0.8640 - val_loss: 0.1371 - val_accuracy: 1.0000\n"
     ]
    },
    {
     "name": "stdout",
     "output_type": "stream",
     "text": [
      "Epoch 87/100\n",
      " - 3s - loss: 0.3833 - accuracy: 0.8904 - val_loss: 0.1143 - val_accuracy: 1.0000\n",
      "Epoch 88/100\n",
      " - 3s - loss: 0.3690 - accuracy: 0.9035 - val_loss: 0.1064 - val_accuracy: 1.0000\n",
      "Epoch 89/100\n",
      " - 3s - loss: 0.3933 - accuracy: 0.8772 - val_loss: 0.1160 - val_accuracy: 1.0000\n",
      "Epoch 90/100\n",
      " - 3s - loss: 0.3103 - accuracy: 0.9167 - val_loss: 0.1157 - val_accuracy: 1.0000\n",
      "Epoch 91/100\n",
      " - 3s - loss: 0.3227 - accuracy: 0.8991 - val_loss: 0.1054 - val_accuracy: 1.0000\n",
      "Epoch 92/100\n",
      " - 3s - loss: 0.3266 - accuracy: 0.9167 - val_loss: 0.0857 - val_accuracy: 1.0000\n",
      "Epoch 93/100\n",
      " - 3s - loss: 0.2978 - accuracy: 0.9123 - val_loss: 0.0738 - val_accuracy: 1.0000\n",
      "Epoch 94/100\n",
      " - 3s - loss: 0.2712 - accuracy: 0.9254 - val_loss: 0.0669 - val_accuracy: 1.0000\n",
      "Epoch 95/100\n",
      " - 3s - loss: 0.3191 - accuracy: 0.8991 - val_loss: 0.0796 - val_accuracy: 1.0000\n",
      "Epoch 96/100\n",
      " - 3s - loss: 0.2641 - accuracy: 0.9123 - val_loss: 0.0901 - val_accuracy: 1.0000\n",
      "Epoch 97/100\n",
      " - 3s - loss: 0.2555 - accuracy: 0.9211 - val_loss: 0.0879 - val_accuracy: 1.0000\n",
      "Epoch 98/100\n",
      " - 3s - loss: 0.2162 - accuracy: 0.9430 - val_loss: 0.0788 - val_accuracy: 1.0000\n",
      "Epoch 99/100\n",
      " - 3s - loss: 0.2278 - accuracy: 0.9430 - val_loss: 0.0680 - val_accuracy: 1.0000\n",
      "Epoch 100/100\n",
      " - 3s - loss: 0.2172 - accuracy: 0.9474 - val_loss: 0.0661 - val_accuracy: 1.0000\n"
     ]
    }
   ],
   "source": [
    "history=cnn_model.fit(\n",
    "    np.array(x_train), np.array(y_train), batch_size=512,\n",
    "    epochs=100, verbose=2,\n",
    "    validation_data=(np.array(x_valid),np.array(y_valid)),\n",
    ")"
   ]
  },
  {
   "cell_type": "code",
   "execution_count": 10,
   "metadata": {
    "colab": {
     "base_uri": "https://localhost:8080/",
     "height": 51
    },
    "colab_type": "code",
    "id": "wa1kFnjUcBVL",
    "outputId": "82d5a713-0f56-41d1-add8-52e545d777c6"
   },
   "outputs": [
    {
     "name": "stdout",
     "output_type": "stream",
     "text": [
      "test los 0.3176\n",
      "test acc 0.9187\n"
     ]
    }
   ],
   "source": [
    "scor = cnn_model.evaluate( np.array(x_test),  np.array(y_test), verbose=0)\n",
    "\n",
    "print('test los {:.4f}'.format(scor[0]))\n",
    "print('test acc {:.4f}'.format(scor[1]))"
   ]
  },
  {
   "cell_type": "code",
   "execution_count": 11,
   "metadata": {
    "colab": {
     "base_uri": "https://localhost:8080/",
     "height": 590
    },
    "colab_type": "code",
    "id": "FHaYoG4IcMuJ",
    "outputId": "ab329865-949e-4577-fe17-00539a632278"
   },
   "outputs": [
    {
     "name": "stdout",
     "output_type": "stream",
     "text": [
      "dict_keys(['val_loss', 'val_accuracy', 'loss', 'accuracy'])\n"
     ]
    },
    {
     "data": {
      "image/png": "[encoded data removed]",
      "text/plain": [
       "<Figure size 432x288 with 1 Axes>"
      ]
     },
     "metadata": {
      "needs_background": "light"
     },
     "output_type": "display_data"
    },
    {
     "data": {
      "image/png": "[encoded data removed]",
      "text/plain": [
       "<Figure size 432x288 with 1 Axes>"
      ]
     },
     "metadata": {
      "needs_background": "light"
     },
     "output_type": "display_data"
    }
   ],
   "source": [
    "print(history.history.keys())\n",
    "# summarize history for accuracy\n",
    "plt.plot(history.history['accuracy'])\n",
    "plt.plot(history.history['val_accuracy'])\n",
    "plt.title('model accuracy')\n",
    "plt.ylabel('accuracy')\n",
    "plt.xlabel('epoch')\n",
    "plt.legend(['train', 'test'], loc='upper left')\n",
    "plt.show()\n",
    "# summarize history for loss\n",
    "plt.plot(history.history['loss'])\n",
    "plt.plot(history.history['val_loss'])\n",
    "plt.title('model loss')\n",
    "plt.ylabel('loss')\n",
    "plt.xlabel('epoch')\n",
    "plt.legend(['train', 'test'], loc='upper left')\n",
    "plt.show()"
   ]
  },
  {
   "cell_type": "code",
   "execution_count": 12,
   "metadata": {
    "colab": {
     "base_uri": "https://localhost:8080/",
     "height": 1000
    },
    "colab_type": "code",
    "id": "kk8VSXwQcPuj",
    "outputId": "645c9f8f-334d-482a-c515-0ca22d76a2d9"
   },
   "outputs": [
    {
     "name": "stdout",
     "output_type": "stream",
     "text": [
      "accuracy : \n",
      "0.91875\n",
      "Confusion matrix, without normalization\n",
      "[[8 0 0 0 0 0 0 0 0 0 0 0 0 0 0 0 0 0 0 0]\n",
      " [0 8 0 0 0 0 0 0 0 0 0 0 0 0 0 0 0 0 0 0]\n",
      " [0 0 8 0 0 0 0 0 0 0 0 0 0 0 0 0 0 0 0 0]\n",
      " [0 0 2 6 0 0 0 0 0 0 0 0 0 0 0 0 0 0 0 0]\n",
      " [0 0 0 0 6 0 0 0 0 0 0 0 0 0 0 0 0 2 0 0]\n",
      " [0 0 0 0 0 8 0 0 0 0 0 0 0 0 0 0 0 0 0 0]\n",
      " [0 0 0 0 0 0 8 0 0 0 0 0 0 0 0 0 0 0 0 0]\n",
      " [0 0 0 0 0 0 0 8 0 0 0 0 0 0 0 0 0 0 0 0]\n",
      " [0 0 0 0 0 0 0 0 8 0 0 0 0 0 0 0 0 0 0 0]\n",
      " [0 0 0 0 0 0 0 2 0 6 0 0 0 0 0 0 0 0 0 0]\n",
      " [0 0 0 0 0 0 0 0 0 0 8 0 0 0 0 0 0 0 0 0]\n",
      " [0 0 0 0 0 0 0 0 0 0 0 8 0 0 0 0 0 0 0 0]\n",
      " [0 0 0 0 0 0 0 0 0 0 0 0 8 0 0 0 0 0 0 0]\n",
      " [0 0 0 0 0 0 0 0 0 0 0 0 0 8 0 0 0 0 0 0]\n",
      " [0 0 0 0 0 0 0 0 0 0 0 0 0 0 8 0 0 0 0 0]\n",
      " [2 0 0 0 0 0 0 0 0 0 0 0 0 0 0 3 0 0 3 0]\n",
      " [0 0 0 0 0 0 0 0 0 0 0 0 0 0 0 0 8 0 0 0]\n",
      " [0 0 0 0 0 0 0 0 0 0 0 0 0 0 0 0 0 8 0 0]\n",
      " [0 0 0 0 0 0 0 0 0 0 2 0 0 0 0 0 0 0 6 0]\n",
      " [0 0 0 0 0 0 0 0 0 0 0 0 0 0 0 0 0 0 0 8]]\n",
      "Confusion matrix, without normalization\n"
     ]
    },
    {
     "data": {
      "image/png": "[encoded data removed]",
      "text/plain": [
       "<Figure size 432x288 with 2 Axes>"
      ]
     },
     "metadata": {
      "needs_background": "light"
     },
     "output_type": "display_data"
    },
    {
     "name": "stdout",
     "output_type": "stream",
     "text": [
      "Confusion matrix, without normalization\n"
     ]
    },
    {
     "data": {
      "image/png": "[encoded data removed]",
      "text/plain": [
       "<Figure size 432x288 with 2 Axes>"
      ]
     },
     "metadata": {
      "needs_background": "light"
     },
     "output_type": "display_data"
    },
    {
     "name": "stdout",
     "output_type": "stream",
     "text": [
      "Confusion matrix:\n",
      "[[8 0 0 0 0 0 0 0 0 0 0 0 0 0 0 0 0 0 0 0]\n",
      " [0 8 0 0 0 0 0 0 0 0 0 0 0 0 0 0 0 0 0 0]\n",
      " [0 0 8 0 0 0 0 0 0 0 0 0 0 0 0 0 0 0 0 0]\n",
      " [0 0 2 6 0 0 0 0 0 0 0 0 0 0 0 0 0 0 0 0]\n",
      " [0 0 0 0 6 0 0 0 0 0 0 0 0 0 0 0 0 2 0 0]\n",
      " [0 0 0 0 0 8 0 0 0 0 0 0 0 0 0 0 0 0 0 0]\n",
      " [0 0 0 0 0 0 8 0 0 0 0 0 0 0 0 0 0 0 0 0]\n",
      " [0 0 0 0 0 0 0 8 0 0 0 0 0 0 0 0 0 0 0 0]\n",
      " [0 0 0 0 0 0 0 0 8 0 0 0 0 0 0 0 0 0 0 0]\n",
      " [0 0 0 0 0 0 0 2 0 6 0 0 0 0 0 0 0 0 0 0]\n",
      " [0 0 0 0 0 0 0 0 0 0 8 0 0 0 0 0 0 0 0 0]\n",
      " [0 0 0 0 0 0 0 0 0 0 0 8 0 0 0 0 0 0 0 0]\n",
      " [0 0 0 0 0 0 0 0 0 0 0 0 8 0 0 0 0 0 0 0]\n",
      " [0 0 0 0 0 0 0 0 0 0 0 0 0 8 0 0 0 0 0 0]\n",
      " [0 0 0 0 0 0 0 0 0 0 0 0 0 0 8 0 0 0 0 0]\n",
      " [2 0 0 0 0 0 0 0 0 0 0 0 0 0 0 3 0 0 3 0]\n",
      " [0 0 0 0 0 0 0 0 0 0 0 0 0 0 0 0 8 0 0 0]\n",
      " [0 0 0 0 0 0 0 0 0 0 0 0 0 0 0 0 0 8 0 0]\n",
      " [0 0 0 0 0 0 0 0 0 0 2 0 0 0 0 0 0 0 6 0]\n",
      " [0 0 0 0 0 0 0 0 0 0 0 0 0 0 0 0 0 0 0 8]]\n",
      "              precision    recall  f1-score   support\n",
      "\n",
      "           0       0.80      1.00      0.89         8\n",
      "           1       1.00      1.00      1.00         8\n",
      "           2       0.80      1.00      0.89         8\n",
      "           3       1.00      0.75      0.86         8\n",
      "           4       1.00      0.75      0.86         8\n",
      "           5       1.00      1.00      1.00         8\n",
      "           6       1.00      1.00      1.00         8\n",
      "           7       0.80      1.00      0.89         8\n",
      "           8       1.00      1.00      1.00         8\n",
      "           9       1.00      0.75      0.86         8\n",
      "          10       0.80      1.00      0.89         8\n",
      "          11       1.00      1.00      1.00         8\n",
      "          12       1.00      1.00      1.00         8\n",
      "          13       1.00      1.00      1.00         8\n",
      "          14       1.00      1.00      1.00         8\n",
      "          15       1.00      0.38      0.55         8\n",
      "          16       1.00      1.00      1.00         8\n",
      "          17       0.80      1.00      0.89         8\n",
      "          18       0.67      0.75      0.71         8\n",
      "          19       1.00      1.00      1.00         8\n",
      "\n",
      "    accuracy                           0.92       160\n",
      "   macro avg       0.93      0.92      0.91       160\n",
      "weighted avg       0.93      0.92      0.91       160\n",
      "\n"
     ]
    }
   ],
   "source": [
    "predicted =np.array( cnn_model.predict(x_test))\n",
    "#print(predicted)\n",
    "#print(y_test)\n",
    "ynew = cnn_model.predict_classes(x_test)\n",
    "\n",
    "\n",
    "Acc=accuracy_score(y_test, ynew)\n",
    "print(\"accuracy : \")\n",
    "print(Acc)\n",
    "#/tn, fp, fn, tp = confusion_matrix(np.array(y_test), ynew).ravel()\n",
    "cnf_matrix=confusion_matrix(np.array(y_test), ynew)\n",
    "\n",
    "y_test1 = np_utils.to_categorical(y_test, 20)\n",
    "\n",
    "\n",
    "\n",
    "def plot_confusion_matrix(cm, classes,\n",
    "                          normalize=False,\n",
    "                          title='Confusion matrix',\n",
    "                          cmap=plt.cm.Blues):\n",
    "    \"\"\"\n",
    "    This function prints and plots the confusion matrix.\n",
    "    Normalization can be applied by setting `normalize=True`.\n",
    "    \"\"\"\n",
    "    if normalize:\n",
    "        cm = cm.astype('float') / cm.sum(axis=1)[:, np.newaxis]\n",
    "        #print(\"Normalized confusion matrix\")\n",
    "    else:\n",
    "        print('Confusion matrix, without normalization')\n",
    "\n",
    "    #print(cm)\n",
    "    plt.imshow(cm, interpolation='nearest', cmap=cmap)\n",
    "    plt.title(title)\n",
    "    plt.colorbar()\n",
    "    tick_marks = np.arange(len(classes))\n",
    "    plt.xticks(tick_marks, classes, rotation=45)\n",
    "    plt.yticks(tick_marks, classes)\n",
    "\n",
    "    fmt = '.2f' if normalize else 'd'\n",
    "    thresh = cm.max() / 2.\n",
    "    for i, j in itertools.product(range(cm.shape[0]), range(cm.shape[1])):\n",
    "        plt.text(j, i, format(cm[i, j], fmt),\n",
    "                 horizontalalignment=\"center\",\n",
    "                 color=\"white\" if cm[i, j] > thresh else \"black\")\n",
    "\n",
    "    plt.tight_layout()\n",
    "    plt.ylabel('True label')\n",
    "    plt.xlabel('Predicted label')\n",
    "    plt.show()\n",
    "\n",
    "\n",
    "print('Confusion matrix, without normalization')\n",
    "print(cnf_matrix)\n",
    "\n",
    "plt.figure()\n",
    "plot_confusion_matrix(cnf_matrix[1:10,1:10], classes=[0,1,2,3,4,5,6,7,8,9],\n",
    "                      title='Confusion matrix, without normalization')\n",
    "\n",
    "plt.figure()\n",
    "plot_confusion_matrix(cnf_matrix[11:20,11:20], classes=[10,11,12,13,14,15,16,17,18,19],\n",
    "                      title='Confusion matrix, without normalization')\n",
    "\n",
    "print(\"Confusion matrix:\\n%s\" % confusion_matrix(np.array(y_test), ynew))\n",
    "print(classification_report(np.array(y_test), ynew))"
   ]
  },
  {
   "cell_type": "code",
   "execution_count": 0,
   "metadata": {
    "colab": {},
    "colab_type": "code",
    "id": "Is5V8SIvcVbl"
   },
   "outputs": [],
   "source": []
  }
 ],
 "metadata": {
  "colab": {
   "name": "Face_Reco_cnn",
   "provenance": []
  },
  "kernelspec": {
   "display_name": "Python 3",
   "language": "python",
   "name": "python3"
  },
  "language_info": {
   "codemirror_mode": {
    "name": "ipython",
    "version": 3
   },
   "file_extension": ".py",
   "mimetype": "text/x-python",
   "name": "python",
   "nbconvert_exporter": "python",
   "pygments_lexer": "ipython3",
   "version": "3.7.4"
  }
 },
 "nbformat": 4,
 "nbformat_minor": 1
}
