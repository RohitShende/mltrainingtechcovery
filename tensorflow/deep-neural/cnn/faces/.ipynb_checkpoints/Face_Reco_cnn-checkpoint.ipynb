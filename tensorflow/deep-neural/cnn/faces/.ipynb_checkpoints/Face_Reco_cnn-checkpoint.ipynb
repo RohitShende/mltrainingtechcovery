{
 "cells": [
  {
   "cell_type": "code",
   "execution_count": 2,
   "metadata": {
    "colab": {
     "base_uri": "https://localhost:8080/",
     "height": 85
    },
    "colab_type": "code",
    "id": "JjSi-1aWZxub",
    "outputId": "0c4a7745-cc6d-4505-c9d6-b2d3c31e7e4b"
   },
   "outputs": [
    {
     "name": "stdout",
     "output_type": "stream",
     "text": [
      "Cloning into 'Face-recognition-using-CNN'...\n",
      "remote: Enumerating objects: 36, done.\u001b[K\n",
      "remote: Total 36 (delta 0), reused 0 (delta 0), pack-reused 36\u001b[K\n",
      "Unpacking objects: 100% (36/36), done.\n"
     ]
    }
   ],
   "source": [
    "!git clone https://github.com/Fatemeh-MA/Face-recognition-using-CNN.git"
   ]
  },
  {
   "cell_type": "code",
   "execution_count": 3,
   "metadata": {
    "colab": {
     "base_uri": "https://localhost:8080/",
     "height": 51
    },
    "colab_type": "code",
    "id": "MET9WPVFaWm6",
    "outputId": "4bce2d35-d241-47db-8531-acf876ae1adb"
   },
   "outputs": [
    {
     "name": "stdout",
     "output_type": "stream",
     "text": [
      "Archive:  /content/Face-recognition-using-CNN/ORL_faces.zip\n",
      "  inflating: ORL_faces.npz           \n"
     ]
    }
   ],
   "source": [
    "!unzip /content/Face-recognition-using-CNN/ORL_faces.zip"
   ]
  },
  {
   "cell_type": "code",
   "execution_count": 0,
   "metadata": {
    "colab": {},
    "colab_type": "code",
    "id": "iOkBFPTVbBds"
   },
   "outputs": [],
   "source": []
  },
  {
   "cell_type": "code",
   "execution_count": 4,
   "metadata": {
    "colab": {
     "base_uri": "https://localhost:8080/",
     "height": 34
    },
    "colab_type": "code",
    "id": "zcroWMKdbHzi",
    "outputId": "13dd269c-f6ff-4628-d42b-b5be293c1c35"
   },
   "outputs": [
    {
     "name": "stderr",
     "output_type": "stream",
     "text": [
      "Using TensorFlow backend.\n"
     ]
    }
   ],
   "source": [
    "import keras\n",
    "from keras.models import Sequential\n",
    "from keras.layers import Conv2D, MaxPooling2D, Dense, Flatten, Dropout\n",
    "from keras.optimizers import Adam\n",
    "from keras.callbacks import TensorBoard\n",
    "\n",
    "import numpy as np\n",
    "import pandas as pd\n",
    "import matplotlib.pyplot as plt\n",
    "from sklearn.model_selection import train_test_split\n",
    "\n",
    "from sklearn.metrics import confusion_matrix\n",
    "from sklearn.metrics import classification_report\n",
    "from sklearn.metrics import roc_curve, auc\n",
    "from sklearn.metrics import accuracy_score\n",
    "from keras.utils import np_utils\n",
    "import itertools"
   ]
  },
  {
   "cell_type": "code",
   "execution_count": 5,
   "metadata": {
    "colab": {
     "base_uri": "https://localhost:8080/",
     "height": 323
    },
    "colab_type": "code",
    "id": "hv3wjBu7beJC",
    "outputId": "3a5e15ac-a569-428e-809a-03b706b4e1dd"
   },
   "outputs": [
    {
     "name": "stdout",
     "output_type": "stream",
     "text": [
      "x_train : [[0.1882353  0.19215687 0.1764706  ... 0.18431373 0.18039216 0.18039216]\n",
      " [0.23529412 0.23529412 0.24313726 ... 0.1254902  0.13333334 0.13333334]\n",
      " [0.15294118 0.17254902 0.20784314 ... 0.11372549 0.10196079 0.11372549]\n",
      " ...\n",
      " [0.44705883 0.45882353 0.44705883 ... 0.38431373 0.3764706  0.38431373]\n",
      " [0.4117647  0.4117647  0.41960785 ... 0.21176471 0.18431373 0.16078432]\n",
      " [0.45490196 0.44705883 0.45882353 ... 0.37254903 0.39215687 0.39607844]]\n",
      "Y-train shape: [ 0  0  0  0  0  0  0  0  0  0  0  0  1  1  1  1  1  1  1  1  1  1  1  1\n",
      "  2  2  2  2  2  2  2  2  2  2  2  2  3  3  3  3  3  3  3  3  3  3  3  3\n",
      "  4  4  4  4  4  4  4  4  4  4  4  4  5  5  5  5  5  5  5  5  5  5  5  5\n",
      "  6  6  6  6  6  6  6  6  6  6  6  6  7  7  7  7  7  7  7  7  7  7  7  7\n",
      "  8  8  8  8  8  8  8  8  8  8  8  8  9  9  9  9  9  9  9  9  9  9  9  9\n",
      " 10 10 10 10 10 10 10 10 10 10 10 10 11 11 11 11 11 11 11 11 11 11 11 11\n",
      " 12 12 12 12 12 12 12 12 12 12 12 12 13 13 13 13 13 13 13 13 13 13 13 13\n",
      " 14 14 14 14 14 14 14 14 14 14 14 14 15 15 15 15 15 15 15 15 15 15 15 15\n",
      " 16 16 16 16 16 16 16 16 16 16 16 16 17 17 17 17 17 17 17 17 17 17 17 17\n",
      " 18 18 18 18 18 18 18 18 18 18 18 18 19 19 19 19 19 19 19 19 19 19 19 19]\n",
      "x_test shape: (160, 10304)\n"
     ]
    }
   ],
   "source": [
    "#load dataset\n",
    "data = np.load('ORL_faces.npz') \n",
    "\n",
    "# load the \"Train Images\"\n",
    "x_train = data['trainX']\n",
    "#normalize every image\n",
    "x_train = np.array(x_train,dtype='float32')/255\n",
    "\n",
    "x_test = data['testX']\n",
    "x_test = np.array(x_test,dtype='float32')/255\n",
    "\n",
    "# load the Label of Images\n",
    "y_train= data['trainY']\n",
    "y_test= data['testY']\n",
    "\n",
    "# show the train and test Data format\n",
    "print('x_train : {}'.format(x_train[:]))\n",
    "print('Y-train shape: {}'.format(y_train))\n",
    "print('x_test shape: {}'.format(x_test.shape))"
   ]
  },
  {
   "cell_type": "code",
   "execution_count": 0,
   "metadata": {
    "colab": {},
    "colab_type": "code",
    "id": "uckbj9sJbiAv"
   },
   "outputs": [],
   "source": [
    "x_train, x_valid, y_train, y_valid= train_test_split(\n",
    "    x_train, y_train, test_size=.05, random_state=1234,)"
   ]
  },
  {
   "cell_type": "code",
   "execution_count": 7,
   "metadata": {
    "colab": {
     "base_uri": "https://localhost:8080/",
     "height": 51
    },
    "colab_type": "code",
    "id": "Kav2Vai3bm7Q",
    "outputId": "a8c39f3b-bf26-44ee-a53f-d4930b00d427"
   },
   "outputs": [
    {
     "name": "stdout",
     "output_type": "stream",
     "text": [
      "x_train shape: 228\n",
      "x_test shape: (160,)\n"
     ]
    }
   ],
   "source": [
    "im_rows=112\n",
    "im_cols=92\n",
    "batch_size=512\n",
    "im_shape=(im_rows, im_cols, 1)\n",
    "\n",
    "#change the size of images\n",
    "x_train = x_train.reshape(x_train.shape[0], *im_shape)\n",
    "x_test = x_test.reshape(x_test.shape[0], *im_shape)\n",
    "x_valid = x_valid.reshape(x_valid.shape[0], *im_shape)\n",
    "\n",
    "print('x_train shape: {}'.format(y_train.shape[0]))\n",
    "print('x_test shape: {}'.format(y_test.shape))"
   ]
  },
  {
   "cell_type": "code",
   "execution_count": 0,
   "metadata": {
    "colab": {},
    "colab_type": "code",
    "id": "_XF-VOgMbqFm"
   },
   "outputs": [],
   "source": [
    "cnn_model= Sequential([\n",
    "    Conv2D(filters=36, kernel_size=7, activation='relu', input_shape= im_shape),\n",
    "    MaxPooling2D(pool_size=2),\n",
    "    Conv2D(filters=54, kernel_size=5, activation='relu', input_shape= im_shape),\n",
    "    MaxPooling2D(pool_size=2),\n",
    "    Flatten(),\n",
    "    Dense(2024, activation='relu'),\n",
    "     Dropout(0.5),\n",
    "    Dense(1024, activation='relu'),\n",
    "    Dropout(0.5),\n",
    "    Dense(512, activation='relu'),\n",
    "    Dropout(0.5),\n",
    "    #20 is the number of outputs\n",
    "    Dense(20, activation='softmax')  \n",
    "])\n",
    "\n",
    "cnn_model.compile(\n",
    "    loss='sparse_categorical_crossentropy',#'categorical_crossentropy',\n",
    "    optimizer=Adam(lr=0.0001),\n",
    "    metrics=['accuracy']\n",
    ")"
   ]
  },
  {
   "cell_type": "code",
   "execution_count": 9,
   "metadata": {
    "colab": {
     "base_uri": "https://localhost:8080/",
     "height": 561
    },
    "colab_type": "code",
    "id": "TU9kZsd4b3Ao",
    "outputId": "cebb3e7b-95c0-4e0e-b063-ea1d9c423b3e"
   },
   "outputs": [
    {
     "name": "stdout",
     "output_type": "stream",
     "text": [
      "Model: \"sequential_1\"\n",
      "_________________________________________________________________\n",
      "Layer (type)                 Output Shape              Param #   \n",
      "=================================================================\n",
      "conv2d_1 (Conv2D)            (None, 106, 86, 36)       1800      \n",
      "_________________________________________________________________\n",
      "max_pooling2d_1 (MaxPooling2 (None, 53, 43, 36)        0         \n",
      "_________________________________________________________________\n",
      "conv2d_2 (Conv2D)            (None, 49, 39, 54)        48654     \n",
      "_________________________________________________________________\n",
      "max_pooling2d_2 (MaxPooling2 (None, 24, 19, 54)        0         \n",
      "_________________________________________________________________\n",
      "flatten_1 (Flatten)          (None, 24624)             0         \n",
      "_________________________________________________________________\n",
      "dense_1 (Dense)              (None, 2024)              49841000  \n",
      "_________________________________________________________________\n",
      "dropout_1 (Dropout)          (None, 2024)              0         \n",
      "_________________________________________________________________\n",
      "dense_2 (Dense)              (None, 1024)              2073600   \n",
      "_________________________________________________________________\n",
      "dropout_2 (Dropout)          (None, 1024)              0         \n",
      "_________________________________________________________________\n",
      "dense_3 (Dense)              (None, 512)               524800    \n",
      "_________________________________________________________________\n",
      "dropout_3 (Dropout)          (None, 512)               0         \n",
      "_________________________________________________________________\n",
      "dense_4 (Dense)              (None, 20)                10260     \n",
      "=================================================================\n",
      "Total params: 52,500,114\n",
      "Trainable params: 52,500,114\n",
      "Non-trainable params: 0\n",
      "_________________________________________________________________\n"
     ]
    }
   ],
   "source": [
    "cnn_model.summary()\n"
   ]
  },
  {
   "cell_type": "code",
   "execution_count": 17,
   "metadata": {
    "colab": {
     "base_uri": "https://localhost:8080/",
     "height": 1000
    },
    "colab_type": "code",
    "id": "d0AEUJsib7NJ",
    "outputId": "cf7d17d9-56d6-4162-dede-184caa1cc762"
   },
   "outputs": [
    {
     "name": "stdout",
     "output_type": "stream",
     "text": [
      "Train on 228 samples, validate on 12 samples\n",
      "Epoch 1/100\n",
      " - 7s - loss: 2.9370 - accuracy: 0.1316 - val_loss: 2.9878 - val_accuracy: 0.0000e+00\n",
      "Epoch 2/100\n",
      " - 7s - loss: 2.9450 - accuracy: 0.0746 - val_loss: 2.9854 - val_accuracy: 0.0000e+00\n",
      "Epoch 3/100\n",
      " - 7s - loss: 2.9265 - accuracy: 0.1360 - val_loss: 2.9832 - val_accuracy: 0.0000e+00\n",
      "Epoch 4/100\n",
      " - 7s - loss: 2.9339 - accuracy: 0.1360 - val_loss: 2.9787 - val_accuracy: 0.0000e+00\n",
      "Epoch 5/100\n",
      " - 7s - loss: 2.9195 - accuracy: 0.1053 - val_loss: 2.9737 - val_accuracy: 0.0000e+00\n",
      "Epoch 6/100\n",
      " - 7s - loss: 2.9198 - accuracy: 0.1184 - val_loss: 2.9679 - val_accuracy: 0.0000e+00\n",
      "Epoch 7/100\n",
      " - 8s - loss: 2.9087 - accuracy: 0.1491 - val_loss: 2.9612 - val_accuracy: 0.0000e+00\n",
      "Epoch 8/100\n",
      " - 7s - loss: 2.8861 - accuracy: 0.1667 - val_loss: 2.9528 - val_accuracy: 0.0000e+00\n",
      "Epoch 9/100\n",
      " - 7s - loss: 2.8698 - accuracy: 0.1842 - val_loss: 2.9431 - val_accuracy: 0.0833\n",
      "Epoch 10/100\n",
      " - 7s - loss: 2.8535 - accuracy: 0.1579 - val_loss: 2.9335 - val_accuracy: 0.0833\n",
      "Epoch 11/100\n",
      " - 7s - loss: 2.8559 - accuracy: 0.1798 - val_loss: 2.9218 - val_accuracy: 0.0833\n",
      "Epoch 12/100\n",
      " - 8s - loss: 2.8632 - accuracy: 0.1491 - val_loss: 2.9066 - val_accuracy: 0.0833\n",
      "Epoch 13/100\n",
      " - 7s - loss: 2.8181 - accuracy: 0.1667 - val_loss: 2.8901 - val_accuracy: 0.0833\n",
      "Epoch 14/100\n",
      " - 8s - loss: 2.7869 - accuracy: 0.1974 - val_loss: 2.8698 - val_accuracy: 0.0833\n",
      "Epoch 15/100\n",
      " - 8s - loss: 2.7612 - accuracy: 0.1886 - val_loss: 2.8455 - val_accuracy: 0.0833\n",
      "Epoch 16/100\n",
      " - 7s - loss: 2.7881 - accuracy: 0.1886 - val_loss: 2.8180 - val_accuracy: 0.0833\n",
      "Epoch 17/100\n",
      " - 8s - loss: 2.7281 - accuracy: 0.2412 - val_loss: 2.7869 - val_accuracy: 0.0833\n",
      "Epoch 18/100\n",
      " - 7s - loss: 2.7350 - accuracy: 0.1974 - val_loss: 2.7555 - val_accuracy: 0.0833\n",
      "Epoch 19/100\n",
      " - 7s - loss: 2.6805 - accuracy: 0.2675 - val_loss: 2.7201 - val_accuracy: 0.1667\n",
      "Epoch 20/100\n",
      " - 8s - loss: 2.6268 - accuracy: 0.2500 - val_loss: 2.6843 - val_accuracy: 0.2500\n",
      "Epoch 21/100\n",
      " - 8s - loss: 2.6385 - accuracy: 0.2632 - val_loss: 2.6439 - val_accuracy: 0.2500\n",
      "Epoch 22/100\n",
      " - 7s - loss: 2.6413 - accuracy: 0.2719 - val_loss: 2.6003 - val_accuracy: 0.2500\n",
      "Epoch 23/100\n",
      " - 7s - loss: 2.4995 - accuracy: 0.3158 - val_loss: 2.5562 - val_accuracy: 0.3333\n",
      "Epoch 24/100\n",
      " - 8s - loss: 2.5121 - accuracy: 0.3333 - val_loss: 2.5079 - val_accuracy: 0.3333\n",
      "Epoch 25/100\n",
      " - 7s - loss: 2.5107 - accuracy: 0.2982 - val_loss: 2.4630 - val_accuracy: 0.3333\n",
      "Epoch 26/100\n",
      " - 7s - loss: 2.4453 - accuracy: 0.3114 - val_loss: 2.4147 - val_accuracy: 0.4167\n",
      "Epoch 27/100\n",
      " - 8s - loss: 2.3853 - accuracy: 0.3114 - val_loss: 2.3540 - val_accuracy: 0.5000\n",
      "Epoch 28/100\n",
      " - 7s - loss: 2.3182 - accuracy: 0.3158 - val_loss: 2.2886 - val_accuracy: 0.5000\n",
      "Epoch 29/100\n",
      " - 8s - loss: 2.2585 - accuracy: 0.3728 - val_loss: 2.2156 - val_accuracy: 0.5000\n",
      "Epoch 30/100\n",
      " - 7s - loss: 2.2469 - accuracy: 0.3640 - val_loss: 2.1489 - val_accuracy: 0.5833\n",
      "Epoch 31/100\n",
      " - 7s - loss: 2.1559 - accuracy: 0.3772 - val_loss: 2.0796 - val_accuracy: 0.5833\n",
      "Epoch 32/100\n",
      " - 7s - loss: 2.1044 - accuracy: 0.4079 - val_loss: 2.0077 - val_accuracy: 0.5833\n",
      "Epoch 33/100\n",
      " - 8s - loss: 2.0561 - accuracy: 0.3904 - val_loss: 1.9426 - val_accuracy: 0.5833\n",
      "Epoch 34/100\n",
      " - 8s - loss: 2.0504 - accuracy: 0.4254 - val_loss: 1.8724 - val_accuracy: 0.5833\n",
      "Epoch 35/100\n",
      " - 8s - loss: 1.9337 - accuracy: 0.4211 - val_loss: 1.7988 - val_accuracy: 0.5833\n",
      "Epoch 36/100\n",
      " - 7s - loss: 1.9375 - accuracy: 0.4298 - val_loss: 1.7259 - val_accuracy: 0.5833\n",
      "Epoch 37/100\n",
      " - 8s - loss: 1.8348 - accuracy: 0.4605 - val_loss: 1.6554 - val_accuracy: 0.5833\n",
      "Epoch 38/100\n",
      " - 7s - loss: 1.7770 - accuracy: 0.4956 - val_loss: 1.5944 - val_accuracy: 0.5833\n",
      "Epoch 39/100\n",
      " - 7s - loss: 1.6133 - accuracy: 0.5307 - val_loss: 1.5445 - val_accuracy: 0.6667\n",
      "Epoch 40/100\n",
      " - 7s - loss: 1.5872 - accuracy: 0.5526 - val_loss: 1.4709 - val_accuracy: 0.6667\n",
      "Epoch 41/100\n",
      " - 7s - loss: 1.5467 - accuracy: 0.5877 - val_loss: 1.3938 - val_accuracy: 0.6667\n",
      "Epoch 42/100\n",
      " - 8s - loss: 1.4852 - accuracy: 0.5526 - val_loss: 1.3189 - val_accuracy: 0.6667\n",
      "Epoch 43/100\n",
      " - 7s - loss: 1.4990 - accuracy: 0.5570 - val_loss: 1.2554 - val_accuracy: 0.7500\n",
      "Epoch 44/100\n",
      " - 8s - loss: 1.4606 - accuracy: 0.5482 - val_loss: 1.2037 - val_accuracy: 0.7500\n",
      "Epoch 45/100\n",
      " - 7s - loss: 1.3869 - accuracy: 0.5702 - val_loss: 1.1385 - val_accuracy: 0.7500\n",
      "Epoch 46/100\n",
      " - 8s - loss: 1.2395 - accuracy: 0.6447 - val_loss: 1.0680 - val_accuracy: 0.7500\n",
      "Epoch 47/100\n",
      " - 8s - loss: 1.2371 - accuracy: 0.6404 - val_loss: 1.0071 - val_accuracy: 0.7500\n",
      "Epoch 48/100\n",
      " - 11s - loss: 1.3196 - accuracy: 0.5702 - val_loss: 0.9698 - val_accuracy: 0.7500\n",
      "Epoch 49/100\n",
      " - 8s - loss: 1.1247 - accuracy: 0.7018 - val_loss: 0.9242 - val_accuracy: 0.7500\n",
      "Epoch 50/100\n",
      " - 8s - loss: 1.1788 - accuracy: 0.6535 - val_loss: 0.8666 - val_accuracy: 0.8333\n",
      "Epoch 51/100\n",
      " - 8s - loss: 1.2239 - accuracy: 0.6491 - val_loss: 0.8216 - val_accuracy: 0.8333\n",
      "Epoch 52/100\n",
      " - 8s - loss: 1.0532 - accuracy: 0.6974 - val_loss: 0.7880 - val_accuracy: 0.8333\n",
      "Epoch 53/100\n",
      " - 8s - loss: 0.9013 - accuracy: 0.7368 - val_loss: 0.7432 - val_accuracy: 0.8333\n",
      "Epoch 54/100\n",
      " - 8s - loss: 0.9174 - accuracy: 0.7500 - val_loss: 0.6873 - val_accuracy: 0.8333\n",
      "Epoch 55/100\n",
      " - 7s - loss: 0.9386 - accuracy: 0.7018 - val_loss: 0.6411 - val_accuracy: 0.8333\n",
      "Epoch 56/100\n",
      " - 8s - loss: 0.8857 - accuracy: 0.7412 - val_loss: 0.6025 - val_accuracy: 0.8333\n",
      "Epoch 57/100\n",
      " - 7s - loss: 0.7990 - accuracy: 0.7851 - val_loss: 0.5534 - val_accuracy: 0.8333\n",
      "Epoch 58/100\n",
      " - 8s - loss: 0.8219 - accuracy: 0.7368 - val_loss: 0.5232 - val_accuracy: 0.9167\n",
      "Epoch 59/100\n",
      " - 8s - loss: 0.8138 - accuracy: 0.7061 - val_loss: 0.4950 - val_accuracy: 0.9167\n",
      "Epoch 60/100\n",
      " - 8s - loss: 0.7213 - accuracy: 0.8026 - val_loss: 0.4513 - val_accuracy: 1.0000\n",
      "Epoch 61/100\n",
      " - 8s - loss: 0.7345 - accuracy: 0.7807 - val_loss: 0.4135 - val_accuracy: 1.0000\n",
      "Epoch 62/100\n",
      " - 8s - loss: 0.6860 - accuracy: 0.7807 - val_loss: 0.3944 - val_accuracy: 1.0000\n",
      "Epoch 63/100\n",
      " - 8s - loss: 0.6662 - accuracy: 0.8070 - val_loss: 0.3915 - val_accuracy: 0.9167\n",
      "Epoch 64/100\n",
      " - 7s - loss: 0.6109 - accuracy: 0.8553 - val_loss: 0.3741 - val_accuracy: 0.9167\n",
      "Epoch 65/100\n",
      " - 8s - loss: 0.5464 - accuracy: 0.8509 - val_loss: 0.3493 - val_accuracy: 0.9167\n",
      "Epoch 66/100\n",
      " - 7s - loss: 0.5883 - accuracy: 0.8026 - val_loss: 0.3360 - val_accuracy: 0.9167\n",
      "Epoch 67/100\n",
      " - 8s - loss: 0.4969 - accuracy: 0.8596 - val_loss: 0.3178 - val_accuracy: 0.9167\n",
      "Epoch 68/100\n",
      " - 8s - loss: 0.5253 - accuracy: 0.8421 - val_loss: 0.2969 - val_accuracy: 0.9167\n",
      "Epoch 69/100\n",
      " - 7s - loss: 0.5480 - accuracy: 0.8465 - val_loss: 0.2779 - val_accuracy: 0.9167\n",
      "Epoch 70/100\n",
      " - 7s - loss: 0.3877 - accuracy: 0.9035 - val_loss: 0.2468 - val_accuracy: 0.9167\n",
      "Epoch 71/100\n",
      " - 8s - loss: 0.4471 - accuracy: 0.8772 - val_loss: 0.2343 - val_accuracy: 0.9167\n",
      "Epoch 72/100\n",
      " - 8s - loss: 0.3796 - accuracy: 0.9123 - val_loss: 0.2168 - val_accuracy: 0.9167\n",
      "Epoch 73/100\n",
      " - 7s - loss: 0.3768 - accuracy: 0.9035 - val_loss: 0.1870 - val_accuracy: 1.0000\n",
      "Epoch 74/100\n",
      " - 8s - loss: 0.3909 - accuracy: 0.8947 - val_loss: 0.1641 - val_accuracy: 1.0000\n",
      "Epoch 75/100\n",
      " - 8s - loss: 0.4257 - accuracy: 0.8596 - val_loss: 0.1518 - val_accuracy: 1.0000\n",
      "Epoch 76/100\n",
      " - 8s - loss: 0.3559 - accuracy: 0.8816 - val_loss: 0.1628 - val_accuracy: 1.0000\n",
      "Epoch 77/100\n",
      " - 8s - loss: 0.3654 - accuracy: 0.8947 - val_loss: 0.1749 - val_accuracy: 1.0000\n",
      "Epoch 78/100\n",
      " - 7s - loss: 0.3304 - accuracy: 0.9079 - val_loss: 0.1536 - val_accuracy: 1.0000\n",
      "Epoch 79/100\n",
      " - 7s - loss: 0.2559 - accuracy: 0.9474 - val_loss: 0.1417 - val_accuracy: 1.0000\n",
      "Epoch 80/100\n",
      " - 8s - loss: 0.2905 - accuracy: 0.9298 - val_loss: 0.1359 - val_accuracy: 1.0000\n",
      "Epoch 81/100\n",
      " - 7s - loss: 0.2155 - accuracy: 0.9561 - val_loss: 0.1286 - val_accuracy: 1.0000\n",
      "Epoch 82/100\n",
      " - 7s - loss: 0.2756 - accuracy: 0.9342 - val_loss: 0.1280 - val_accuracy: 1.0000\n",
      "Epoch 83/100\n",
      " - 7s - loss: 0.2475 - accuracy: 0.9430 - val_loss: 0.1363 - val_accuracy: 1.0000\n",
      "Epoch 84/100\n",
      " - 7s - loss: 0.3030 - accuracy: 0.9167 - val_loss: 0.1322 - val_accuracy: 1.0000\n",
      "Epoch 85/100\n",
      " - 8s - loss: 0.2252 - accuracy: 0.9605 - val_loss: 0.1132 - val_accuracy: 1.0000\n",
      "Epoch 86/100\n",
      " - 8s - loss: 0.2174 - accuracy: 0.9518 - val_loss: 0.1044 - val_accuracy: 1.0000\n",
      "Epoch 87/100\n",
      " - 7s - loss: 0.2247 - accuracy: 0.9430 - val_loss: 0.0977 - val_accuracy: 1.0000\n",
      "Epoch 88/100\n",
      " - 8s - loss: 0.1924 - accuracy: 0.9693 - val_loss: 0.0886 - val_accuracy: 1.0000\n",
      "Epoch 89/100\n",
      " - 7s - loss: 0.2295 - accuracy: 0.9298 - val_loss: 0.0833 - val_accuracy: 1.0000\n",
      "Epoch 90/100\n",
      " - 8s - loss: 0.1617 - accuracy: 0.9781 - val_loss: 0.0800 - val_accuracy: 1.0000\n",
      "Epoch 91/100\n",
      " - 7s - loss: 0.1566 - accuracy: 0.9737 - val_loss: 0.0767 - val_accuracy: 1.0000\n",
      "Epoch 92/100\n",
      " - 7s - loss: 0.1634 - accuracy: 0.9693 - val_loss: 0.0685 - val_accuracy: 1.0000\n",
      "Epoch 93/100\n",
      " - 8s - loss: 0.1459 - accuracy: 0.9561 - val_loss: 0.0660 - val_accuracy: 1.0000\n",
      "Epoch 94/100\n",
      " - 8s - loss: 0.1883 - accuracy: 0.9605 - val_loss: 0.0641 - val_accuracy: 1.0000\n",
      "Epoch 95/100\n",
      " - 7s - loss: 0.1325 - accuracy: 0.9825 - val_loss: 0.0671 - val_accuracy: 1.0000\n",
      "Epoch 96/100\n",
      " - 7s - loss: 0.1227 - accuracy: 0.9781 - val_loss: 0.0695 - val_accuracy: 1.0000\n",
      "Epoch 97/100\n",
      " - 7s - loss: 0.1062 - accuracy: 0.9912 - val_loss: 0.0807 - val_accuracy: 1.0000\n",
      "Epoch 98/100\n",
      " - 8s - loss: 0.1365 - accuracy: 0.9649 - val_loss: 0.0742 - val_accuracy: 1.0000\n",
      "Epoch 99/100\n",
      " - 7s - loss: 0.1141 - accuracy: 0.9649 - val_loss: 0.0506 - val_accuracy: 1.0000\n",
      "Epoch 100/100\n",
      " - 7s - loss: 0.1482 - accuracy: 0.9605 - val_loss: 0.0362 - val_accuracy: 1.0000\n"
     ]
    }
   ],
   "source": [
    "history=cnn_model.fit(\n",
    "    np.array(x_train), np.array(y_train), batch_size=512,\n",
    "    epochs=100, verbose=2,\n",
    "    validation_data=(np.array(x_valid),np.array(y_valid)),\n",
    ")"
   ]
  },
  {
   "cell_type": "code",
   "execution_count": 18,
   "metadata": {
    "colab": {
     "base_uri": "https://localhost:8080/",
     "height": 51
    },
    "colab_type": "code",
    "id": "wa1kFnjUcBVL",
    "outputId": "82d5a713-0f56-41d1-add8-52e545d777c6"
   },
   "outputs": [
    {
     "name": "stdout",
     "output_type": "stream",
     "text": [
      "test los 0.2579\n",
      "test acc 0.9375\n"
     ]
    }
   ],
   "source": [
    "scor = cnn_model.evaluate( np.array(x_test),  np.array(y_test), verbose=0)\n",
    "\n",
    "print('test los {:.4f}'.format(scor[0]))\n",
    "print('test acc {:.4f}'.format(scor[1]))"
   ]
  },
  {
   "cell_type": "code",
   "execution_count": 19,
   "metadata": {
    "colab": {
     "base_uri": "https://localhost:8080/",
     "height": 590
    },
    "colab_type": "code",
    "id": "FHaYoG4IcMuJ",
    "outputId": "ab329865-949e-4577-fe17-00539a632278"
   },
   "outputs": [
    {
     "name": "stdout",
     "output_type": "stream",
     "text": [
      "dict_keys(['val_loss', 'val_accuracy', 'loss', 'accuracy'])\n"
     ]
    },
    {
     "data": {
      "image/png": "[encoded data removed]",
      "text/plain": [
       "<Figure size 432x288 with 1 Axes>"
      ]
     },
     "metadata": {
      "needs_background": "light",
      "tags": []
     },
     "output_type": "display_data"
    },
    {
     "data": {
      "image/png": "[encoded data removed]",
      "text/plain": [
       "<Figure size 432x288 with 1 Axes>"
      ]
     },
     "metadata": {
      "needs_background": "light",
      "tags": []
     },
     "output_type": "display_data"
    }
   ],
   "source": [
    "print(history.history.keys())\n",
    "# summarize history for accuracy\n",
    "plt.plot(history.history['accuracy'])\n",
    "plt.plot(history.history['val_accuracy'])\n",
    "plt.title('model accuracy')\n",
    "plt.ylabel('accuracy')\n",
    "plt.xlabel('epoch')\n",
    "plt.legend(['train', 'test'], loc='upper left')\n",
    "plt.show()\n",
    "# summarize history for loss\n",
    "plt.plot(history.history['loss'])\n",
    "plt.plot(history.history['val_loss'])\n",
    "plt.title('model loss')\n",
    "plt.ylabel('loss')\n",
    "plt.xlabel('epoch')\n",
    "plt.legend(['train', 'test'], loc='upper left')\n",
    "plt.show()"
   ]
  },
  {
   "cell_type": "code",
   "execution_count": 20,
   "metadata": {
    "colab": {
     "base_uri": "https://localhost:8080/",
     "height": 1000
    },
    "colab_type": "code",
    "id": "kk8VSXwQcPuj",
    "outputId": "645c9f8f-334d-482a-c515-0ca22d76a2d9"
   },
   "outputs": [
    {
     "name": "stdout",
     "output_type": "stream",
     "text": [
      "accuracy : \n",
      "0.9375\n",
      "Confusion matrix, without normalization\n",
      "[[8 0 0 0 0 0 0 0 0 0 0 0 0 0 0 0 0 0 0 0]\n",
      " [0 8 0 0 0 0 0 0 0 0 0 0 0 0 0 0 0 0 0 0]\n",
      " [0 0 8 0 0 0 0 0 0 0 0 0 0 0 0 0 0 0 0 0]\n",
      " [0 0 0 8 0 0 0 0 0 0 0 0 0 0 0 0 0 0 0 0]\n",
      " [0 0 0 0 6 0 0 0 0 0 0 0 0 0 0 0 0 2 0 0]\n",
      " [0 0 0 0 0 8 0 0 0 0 0 0 0 0 0 0 0 0 0 0]\n",
      " [0 0 0 0 0 0 8 0 0 0 0 0 0 0 0 0 0 0 0 0]\n",
      " [0 0 0 0 0 0 0 8 0 0 0 0 0 0 0 0 0 0 0 0]\n",
      " [0 0 0 0 0 0 0 0 8 0 0 0 0 0 0 0 0 0 0 0]\n",
      " [0 0 0 0 0 0 0 2 0 6 0 0 0 0 0 0 0 0 0 0]\n",
      " [0 0 0 0 0 0 0 0 0 0 8 0 0 0 0 0 0 0 0 0]\n",
      " [0 0 0 0 0 0 0 0 0 0 0 8 0 0 0 0 0 0 0 0]\n",
      " [0 0 0 0 0 0 0 0 0 0 0 0 8 0 0 0 0 0 0 0]\n",
      " [0 0 0 0 0 0 0 0 0 0 0 0 0 8 0 0 0 0 0 0]\n",
      " [0 0 0 0 0 0 0 0 0 0 0 0 0 0 8 0 0 0 0 0]\n",
      " [2 0 0 0 0 0 0 0 0 0 0 0 2 0 0 4 0 0 0 0]\n",
      " [0 0 0 0 0 0 0 0 0 0 0 0 0 0 0 0 8 0 0 0]\n",
      " [0 0 0 0 0 0 0 0 0 0 0 0 0 0 0 0 0 8 0 0]\n",
      " [0 0 0 0 0 0 0 2 0 0 0 0 0 0 0 0 0 0 6 0]\n",
      " [0 0 0 0 0 0 0 0 0 0 0 0 0 0 0 0 0 0 0 8]]\n",
      "Confusion matrix, without normalization\n"
     ]
    },
    {
     "data": {
      "image/png": "[encoded data removed]",
      "text/plain": [
       "<Figure size 432x288 with 2 Axes>"
      ]
     },
     "metadata": {
      "needs_background": "light",
      "tags": []
     },
     "output_type": "display_data"
    },
    {
     "name": "stdout",
     "output_type": "stream",
     "text": [
      "Confusion matrix, without normalization\n"
     ]
    },
    {
     "data": {
      "image/png": "[encoded data removed]",
      "text/plain": [
       "<Figure size 432x288 with 2 Axes>"
      ]
     },
     "metadata": {
      "needs_background": "light",
      "tags": []
     },
     "output_type": "display_data"
    },
    {
     "name": "stdout",
     "output_type": "stream",
     "text": [
      "Confusion matrix:\n",
      "[[8 0 0 0 0 0 0 0 0 0 0 0 0 0 0 0 0 0 0 0]\n",
      " [0 8 0 0 0 0 0 0 0 0 0 0 0 0 0 0 0 0 0 0]\n",
      " [0 0 8 0 0 0 0 0 0 0 0 0 0 0 0 0 0 0 0 0]\n",
      " [0 0 0 8 0 0 0 0 0 0 0 0 0 0 0 0 0 0 0 0]\n",
      " [0 0 0 0 6 0 0 0 0 0 0 0 0 0 0 0 0 2 0 0]\n",
      " [0 0 0 0 0 8 0 0 0 0 0 0 0 0 0 0 0 0 0 0]\n",
      " [0 0 0 0 0 0 8 0 0 0 0 0 0 0 0 0 0 0 0 0]\n",
      " [0 0 0 0 0 0 0 8 0 0 0 0 0 0 0 0 0 0 0 0]\n",
      " [0 0 0 0 0 0 0 0 8 0 0 0 0 0 0 0 0 0 0 0]\n",
      " [0 0 0 0 0 0 0 2 0 6 0 0 0 0 0 0 0 0 0 0]\n",
      " [0 0 0 0 0 0 0 0 0 0 8 0 0 0 0 0 0 0 0 0]\n",
      " [0 0 0 0 0 0 0 0 0 0 0 8 0 0 0 0 0 0 0 0]\n",
      " [0 0 0 0 0 0 0 0 0 0 0 0 8 0 0 0 0 0 0 0]\n",
      " [0 0 0 0 0 0 0 0 0 0 0 0 0 8 0 0 0 0 0 0]\n",
      " [0 0 0 0 0 0 0 0 0 0 0 0 0 0 8 0 0 0 0 0]\n",
      " [2 0 0 0 0 0 0 0 0 0 0 0 2 0 0 4 0 0 0 0]\n",
      " [0 0 0 0 0 0 0 0 0 0 0 0 0 0 0 0 8 0 0 0]\n",
      " [0 0 0 0 0 0 0 0 0 0 0 0 0 0 0 0 0 8 0 0]\n",
      " [0 0 0 0 0 0 0 2 0 0 0 0 0 0 0 0 0 0 6 0]\n",
      " [0 0 0 0 0 0 0 0 0 0 0 0 0 0 0 0 0 0 0 8]]\n",
      "              precision    recall  f1-score   support\n",
      "\n",
      "           0       0.80      1.00      0.89         8\n",
      "           1       1.00      1.00      1.00         8\n",
      "           2       1.00      1.00      1.00         8\n",
      "           3       1.00      1.00      1.00         8\n",
      "           4       1.00      0.75      0.86         8\n",
      "           5       1.00      1.00      1.00         8\n",
      "           6       1.00      1.00      1.00         8\n",
      "           7       0.67      1.00      0.80         8\n",
      "           8       1.00      1.00      1.00         8\n",
      "           9       1.00      0.75      0.86         8\n",
      "          10       1.00      1.00      1.00         8\n",
      "          11       1.00      1.00      1.00         8\n",
      "          12       0.80      1.00      0.89         8\n",
      "          13       1.00      1.00      1.00         8\n",
      "          14       1.00      1.00      1.00         8\n",
      "          15       1.00      0.50      0.67         8\n",
      "          16       1.00      1.00      1.00         8\n",
      "          17       0.80      1.00      0.89         8\n",
      "          18       1.00      0.75      0.86         8\n",
      "          19       1.00      1.00      1.00         8\n",
      "\n",
      "    accuracy                           0.94       160\n",
      "   macro avg       0.95      0.94      0.94       160\n",
      "weighted avg       0.95      0.94      0.94       160\n",
      "\n"
     ]
    }
   ],
   "source": [
    "predicted =np.array( cnn_model.predict(x_test))\n",
    "#print(predicted)\n",
    "#print(y_test)\n",
    "ynew = cnn_model.predict_classes(x_test)\n",
    "\n",
    "\n",
    "Acc=accuracy_score(y_test, ynew)\n",
    "print(\"accuracy : \")\n",
    "print(Acc)\n",
    "#/tn, fp, fn, tp = confusion_matrix(np.array(y_test), ynew).ravel()\n",
    "cnf_matrix=confusion_matrix(np.array(y_test), ynew)\n",
    "\n",
    "y_test1 = np_utils.to_categorical(y_test, 20)\n",
    "\n",
    "\n",
    "\n",
    "def plot_confusion_matrix(cm, classes,\n",
    "                          normalize=False,\n",
    "                          title='Confusion matrix',\n",
    "                          cmap=plt.cm.Blues):\n",
    "    \"\"\"\n",
    "    This function prints and plots the confusion matrix.\n",
    "    Normalization can be applied by setting `normalize=True`.\n",
    "    \"\"\"\n",
    "    if normalize:\n",
    "        cm = cm.astype('float') / cm.sum(axis=1)[:, np.newaxis]\n",
    "        #print(\"Normalized confusion matrix\")\n",
    "    else:\n",
    "        print('Confusion matrix, without normalization')\n",
    "\n",
    "    #print(cm)\n",
    "    plt.imshow(cm, interpolation='nearest', cmap=cmap)\n",
    "    plt.title(title)\n",
    "    plt.colorbar()\n",
    "    tick_marks = np.arange(len(classes))\n",
    "    plt.xticks(tick_marks, classes, rotation=45)\n",
    "    plt.yticks(tick_marks, classes)\n",
    "\n",
    "    fmt = '.2f' if normalize else 'd'\n",
    "    thresh = cm.max() / 2.\n",
    "    for i, j in itertools.product(range(cm.shape[0]), range(cm.shape[1])):\n",
    "        plt.text(j, i, format(cm[i, j], fmt),\n",
    "                 horizontalalignment=\"center\",\n",
    "                 color=\"white\" if cm[i, j] > thresh else \"black\")\n",
    "\n",
    "    plt.tight_layout()\n",
    "    plt.ylabel('True label')\n",
    "    plt.xlabel('Predicted label')\n",
    "    plt.show()\n",
    "\n",
    "\n",
    "print('Confusion matrix, without normalization')\n",
    "print(cnf_matrix)\n",
    "\n",
    "plt.figure()\n",
    "plot_confusion_matrix(cnf_matrix[1:10,1:10], classes=[0,1,2,3,4,5,6,7,8,9],\n",
    "                      title='Confusion matrix, without normalization')\n",
    "\n",
    "plt.figure()\n",
    "plot_confusion_matrix(cnf_matrix[11:20,11:20], classes=[10,11,12,13,14,15,16,17,18,19],\n",
    "                      title='Confusion matrix, without normalization')\n",
    "\n",
    "print(\"Confusion matrix:\\n%s\" % confusion_matrix(np.array(y_test), ynew))\n",
    "print(classification_report(np.array(y_test), ynew))"
   ]
  },
  {
   "cell_type": "code",
   "execution_count": 0,
   "metadata": {
    "colab": {},
    "colab_type": "code",
    "id": "Is5V8SIvcVbl"
   },
   "outputs": [],
   "source": []
  }
 ],
 "metadata": {
  "colab": {
   "name": "Face_Reco_cnn",
   "provenance": []
  },
  "kernelspec": {
   "display_name": "Python 3",
   "language": "python",
   "name": "python3"
  },
  "language_info": {
   "codemirror_mode": {
    "name": "ipython",
    "version": 3
   },
   "file_extension": ".py",
   "mimetype": "text/x-python",
   "name": "python",
   "nbconvert_exporter": "python",
   "pygments_lexer": "ipython3",
   "version": "3.7.4"
  }
 },
 "nbformat": 4,
 "nbformat_minor": 1
}
