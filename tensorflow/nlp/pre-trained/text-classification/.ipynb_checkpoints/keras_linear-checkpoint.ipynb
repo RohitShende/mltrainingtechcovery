{
 "cells": [
  {
   "cell_type": "code",
   "execution_count": 1,
   "metadata": {
    "colab": {
     "base_uri": "https://localhost:8080/",
     "height": 1000
    },
    "colab_type": "code",
    "id": "cp3unxbg2UyZ",
    "outputId": "7e7c9d49-55a4-48f9-f7ea-b0c84d5e4435"
   },
   "outputs": [
    {
     "name": "stderr",
     "output_type": "stream",
     "text": [
      "Using TensorFlow backend.\n"
     ]
    },
    {
     "name": "stdout",
     "output_type": "stream",
     "text": [
      "Linear regression model is initialized with weights w: -0.79, b: 0.00\n",
      "Epoch 1/30\n",
      "200/200 [==============================] - 0s 680us/step - loss: 1.7325 - mse: 1.7325\n",
      "Epoch 2/30\n",
      "200/200 [==============================] - 0s 665us/step - loss: 0.1960 - mse: 0.1960\n",
      "Epoch 3/30\n",
      "200/200 [==============================] - 0s 702us/step - loss: 0.1880 - mse: 0.1880\n",
      "Epoch 4/30\n",
      "200/200 [==============================] - 0s 698us/step - loss: 0.1807 - mse: 0.1807\n",
      "Epoch 5/30\n",
      "200/200 [==============================] - 0s 655us/step - loss: 0.1739 - mse: 0.1739\n",
      "Epoch 6/30\n",
      "200/200 [==============================] - 0s 700us/step - loss: 0.1677 - mse: 0.1677\n",
      "Epoch 7/30\n",
      "200/200 [==============================] - 0s 621us/step - loss: 0.1619 - mse: 0.1619\n",
      "Epoch 8/30\n",
      "200/200 [==============================] - 0s 601us/step - loss: 0.1566 - mse: 0.1566\n",
      "Epoch 9/30\n",
      "200/200 [==============================] - 0s 674us/step - loss: 0.1518 - mse: 0.1518\n",
      "Epoch 10/30\n",
      "200/200 [==============================] - 0s 598us/step - loss: 0.1473 - mse: 0.1473\n",
      "Epoch 11/30\n",
      "200/200 [==============================] - 0s 623us/step - loss: 0.1432 - mse: 0.1432\n",
      "Epoch 12/30\n",
      "200/200 [==============================] - 0s 663us/step - loss: 0.1394 - mse: 0.1394\n",
      "Epoch 13/30\n",
      "200/200 [==============================] - 0s 727us/step - loss: 0.1359 - mse: 0.1359\n",
      "Epoch 14/30\n",
      "200/200 [==============================] - 0s 663us/step - loss: 0.1326 - mse: 0.1326\n",
      "Epoch 15/30\n",
      "200/200 [==============================] - 0s 591us/step - loss: 0.1297 - mse: 0.1297\n",
      "Epoch 16/30\n",
      "200/200 [==============================] - 0s 493us/step - loss: 0.1269 - mse: 0.1269\n",
      "Epoch 17/30\n",
      "200/200 [==============================] - 0s 505us/step - loss: 0.1244 - mse: 0.1244\n",
      "Epoch 18/30\n",
      "200/200 [==============================] - 0s 504us/step - loss: 0.1221 - mse: 0.1221\n",
      "Epoch 19/30\n",
      "200/200 [==============================] - 0s 515us/step - loss: 0.1200 - mse: 0.1200\n",
      "Epoch 20/30\n",
      "200/200 [==============================] - 0s 591us/step - loss: 0.1180 - mse: 0.1180\n",
      "Epoch 21/30\n",
      "200/200 [==============================] - 0s 578us/step - loss: 0.1162 - mse: 0.1162\n",
      "Epoch 22/30\n",
      "200/200 [==============================] - 0s 545us/step - loss: 0.1145 - mse: 0.1145\n",
      "Epoch 23/30\n",
      "200/200 [==============================] - 0s 548us/step - loss: 0.1130 - mse: 0.1130\n",
      "Epoch 24/30\n",
      "200/200 [==============================] - 0s 549us/step - loss: 0.1115 - mse: 0.1115\n",
      "Epoch 25/30\n",
      "200/200 [==============================] - 0s 557us/step - loss: 0.1102 - mse: 0.1102\n",
      "Epoch 26/30\n",
      "200/200 [==============================] - 0s 534us/step - loss: 0.1090 - mse: 0.1090\n",
      "Epoch 27/30\n",
      "200/200 [==============================] - 0s 579us/step - loss: 0.1079 - mse: 0.1079\n",
      "Epoch 28/30\n",
      "200/200 [==============================] - 0s 606us/step - loss: 0.1069 - mse: 0.1069\n",
      "Epoch 29/30\n",
      "200/200 [==============================] - 0s 691us/step - loss: 0.1059 - mse: 0.1059\n",
      "Epoch 30/30\n",
      "200/200 [==============================] - 0s 639us/step - loss: 0.1051 - mse: 0.1051\n",
      "Linear regression model is trained to have weight w: 3.52, b: 0.92\n"
     ]
    },
    {
     "data": {
      "image/png": "[encoded data removed]",
      "text/plain": [
       "<Figure size 432x288 with 1 Axes>"
      ]
     },
     "metadata": {
      "needs_background": "light"
     },
     "output_type": "display_data"
    }
   ],
   "source": [
    "import keras\n",
    "from keras.models import Sequential\n",
    "from keras.layers import Dense, Activation\n",
    "import numpy as np\n",
    "import matplotlib.pyplot as plt \n",
    "%matplotlib inline\n",
    " \n",
    "x = data = np.linspace(1,2,200)\n",
    "y = x*4 + np.random.randn(*x.shape) * 0.3\n",
    "\n",
    "\n",
    "model = Sequential()\n",
    "model.add(Dense(1, input_dim=1, activation='linear'))\n",
    "\n",
    "model.compile(optimizer='sgd', loss='mse', metrics=['mse'])\n",
    "\n",
    "weights = model.layers[0].get_weights()\n",
    "w_init = weights[0][0][0]\n",
    "b_init = weights[1][0]\n",
    "print('Linear regression model is initialized with weights w: %.2f, b: %.2f' % (w_init, b_init)) \n",
    "\n",
    "\n",
    "model.fit(x,y, batch_size=1, epochs=30, shuffle=False)\n",
    "\n",
    "weights = model.layers[0].get_weights()\n",
    "w_final = weights[0][0][0]\n",
    "b_final = weights[1][0]\n",
    "print('Linear regression model is trained to have weight w: %.2f, b: %.2f' % (w_final, b_final))\n",
    "\n",
    "predict = model.predict(data)\n",
    "\n",
    "plt.plot(data, predict, 'b', data , y, 'k.')\n",
    "plt.show()"
   ]
  },
  {
   "cell_type": "code",
   "execution_count": 0,
   "metadata": {
    "colab": {},
    "colab_type": "code",
    "id": "dWxu1L4I2_WL"
   },
   "outputs": [],
   "source": []
  }
 ],
 "metadata": {
  "colab": {
   "name": "Keras_linear.ipynb",
   "provenance": []
  },
  "kernelspec": {
   "display_name": "Python 3",
   "language": "python",
   "name": "python3"
  },
  "language_info": {
   "codemirror_mode": {
    "name": "ipython",
    "version": 3
   },
   "file_extension": ".py",
   "mimetype": "text/x-python",
   "name": "python",
   "nbconvert_exporter": "python",
   "pygments_lexer": "ipython3",
   "version": "3.7.4"
  }
 },
 "nbformat": 4,
 "nbformat_minor": 1
}
