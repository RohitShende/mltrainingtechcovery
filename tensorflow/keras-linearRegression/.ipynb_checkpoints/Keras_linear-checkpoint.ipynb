{
 "cells": [
  {
   "cell_type": "code",
   "execution_count": 11,
   "metadata": {
    "colab": {
     "base_uri": "https://localhost:8080/",
     "height": 1000
    },
    "colab_type": "code",
    "id": "cp3unxbg2UyZ",
    "outputId": "7e7c9d49-55a4-48f9-f7ea-b0c84d5e4435"
   },
   "outputs": [
    {
     "name": "stdout",
     "output_type": "stream",
     "text": [
      "WARNING:tensorflow:From /usr/local/lib/python3.6/dist-packages/keras/backend/tensorflow_backend.py:190: The name tf.get_default_session is deprecated. Please use tf.compat.v1.get_default_session instead.\n",
      "\n",
      "WARNING:tensorflow:From /usr/local/lib/python3.6/dist-packages/keras/backend/tensorflow_backend.py:197: The name tf.ConfigProto is deprecated. Please use tf.compat.v1.ConfigProto instead.\n",
      "\n",
      "WARNING:tensorflow:From /usr/local/lib/python3.6/dist-packages/keras/backend/tensorflow_backend.py:203: The name tf.Session is deprecated. Please use tf.compat.v1.Session instead.\n",
      "\n",
      "WARNING:tensorflow:From /usr/local/lib/python3.6/dist-packages/keras/backend/tensorflow_backend.py:207: The name tf.global_variables is deprecated. Please use tf.compat.v1.global_variables instead.\n",
      "\n",
      "WARNING:tensorflow:From /usr/local/lib/python3.6/dist-packages/keras/backend/tensorflow_backend.py:216: The name tf.is_variable_initialized is deprecated. Please use tf.compat.v1.is_variable_initialized instead.\n",
      "\n",
      "WARNING:tensorflow:From /usr/local/lib/python3.6/dist-packages/keras/backend/tensorflow_backend.py:223: The name tf.variables_initializer is deprecated. Please use tf.compat.v1.variables_initializer instead.\n",
      "\n",
      "Linear regression model is initialized with weights w: -1.01, b: 0.00\n",
      "WARNING:tensorflow:From /usr/local/lib/python3.6/dist-packages/keras/backend/tensorflow_backend.py:1033: The name tf.assign_add is deprecated. Please use tf.compat.v1.assign_add instead.\n",
      "\n",
      "WARNING:tensorflow:From /usr/local/lib/python3.6/dist-packages/keras/backend/tensorflow_backend.py:1020: The name tf.assign is deprecated. Please use tf.compat.v1.assign instead.\n",
      "\n",
      "Epoch 1/30\n",
      "200/200 [==============================] - 0s 2ms/step - loss: 1.8848 - mean_squared_error: 1.8848\n",
      "Epoch 2/30\n",
      "200/200 [==============================] - 0s 929us/step - loss: 0.2227 - mean_squared_error: 0.2227\n",
      "Epoch 3/30\n",
      "200/200 [==============================] - 0s 892us/step - loss: 0.2134 - mean_squared_error: 0.2134\n",
      "Epoch 4/30\n",
      "200/200 [==============================] - 0s 918us/step - loss: 0.2047 - mean_squared_error: 0.2047\n",
      "Epoch 5/30\n",
      "200/200 [==============================] - 0s 956us/step - loss: 0.1968 - mean_squared_error: 0.1968\n",
      "Epoch 6/30\n",
      "200/200 [==============================] - 0s 909us/step - loss: 0.1895 - mean_squared_error: 0.1895\n",
      "Epoch 7/30\n",
      "200/200 [==============================] - 0s 937us/step - loss: 0.1828 - mean_squared_error: 0.1828\n",
      "Epoch 8/30\n",
      "200/200 [==============================] - 0s 939us/step - loss: 0.1766 - mean_squared_error: 0.1766\n",
      "Epoch 9/30\n",
      "200/200 [==============================] - 0s 952us/step - loss: 0.1709 - mean_squared_error: 0.1709\n",
      "Epoch 10/30\n",
      "200/200 [==============================] - 0s 910us/step - loss: 0.1657 - mean_squared_error: 0.1657\n",
      "Epoch 11/30\n",
      "200/200 [==============================] - 0s 899us/step - loss: 0.1609 - mean_squared_error: 0.1609\n",
      "Epoch 12/30\n",
      "200/200 [==============================] - 0s 921us/step - loss: 0.1565 - mean_squared_error: 0.1565\n",
      "Epoch 13/30\n",
      "200/200 [==============================] - 0s 899us/step - loss: 0.1524 - mean_squared_error: 0.1524\n",
      "Epoch 14/30\n",
      "200/200 [==============================] - 0s 887us/step - loss: 0.1487 - mean_squared_error: 0.1487\n",
      "Epoch 15/30\n",
      "200/200 [==============================] - 0s 921us/step - loss: 0.1452 - mean_squared_error: 0.1452\n",
      "Epoch 16/30\n",
      "200/200 [==============================] - 0s 915us/step - loss: 0.1421 - mean_squared_error: 0.1421\n",
      "Epoch 17/30\n",
      "200/200 [==============================] - 0s 891us/step - loss: 0.1392 - mean_squared_error: 0.1392\n",
      "Epoch 18/30\n",
      "200/200 [==============================] - 0s 938us/step - loss: 0.1365 - mean_squared_error: 0.1365\n",
      "Epoch 19/30\n",
      "200/200 [==============================] - 0s 934us/step - loss: 0.1340 - mean_squared_error: 0.1340\n",
      "Epoch 20/30\n",
      "200/200 [==============================] - 0s 900us/step - loss: 0.1318 - mean_squared_error: 0.1318\n",
      "Epoch 21/30\n",
      "200/200 [==============================] - 0s 927us/step - loss: 0.1297 - mean_squared_error: 0.1297\n",
      "Epoch 22/30\n",
      "200/200 [==============================] - 0s 927us/step - loss: 0.1278 - mean_squared_error: 0.1278\n",
      "Epoch 23/30\n",
      "200/200 [==============================] - 0s 940us/step - loss: 0.1260 - mean_squared_error: 0.1260\n",
      "Epoch 24/30\n",
      "200/200 [==============================] - 0s 1ms/step - loss: 0.1244 - mean_squared_error: 0.1244\n",
      "Epoch 25/30\n",
      "200/200 [==============================] - 0s 962us/step - loss: 0.1229 - mean_squared_error: 0.1229\n",
      "Epoch 26/30\n",
      "200/200 [==============================] - 0s 954us/step - loss: 0.1216 - mean_squared_error: 0.1216\n",
      "Epoch 27/30\n",
      "200/200 [==============================] - 0s 1ms/step - loss: 0.1203 - mean_squared_error: 0.1203\n",
      "Epoch 28/30\n",
      "200/200 [==============================] - 0s 970us/step - loss: 0.1191 - mean_squared_error: 0.1191\n",
      "Epoch 29/30\n",
      "200/200 [==============================] - 0s 924us/step - loss: 0.1181 - mean_squared_error: 0.1181\n",
      "Epoch 30/30\n",
      "200/200 [==============================] - 0s 918us/step - loss: 0.1171 - mean_squared_error: 0.1171\n",
      "Linear regression model is trained to have weight w: 3.55, b: 0.87\n"
     ]
    },
    {
     "data": {
      "image/png": "[encoded data removed]",
      "text/plain": [
       "<Figure size 432x288 with 1 Axes>"
      ]
     },
     "metadata": {
      "tags": []
     },
     "output_type": "display_data"
    }
   ],
   "source": [
    "import keras\n",
    "from keras.models import Sequential\n",
    "from keras.layers import Dense, Activation\n",
    "import numpy as np\n",
    "import matplotlib.pyplot as plt \n",
    " \n",
    "x = data = np.linspace(1,2,200)\n",
    "y = x*4 + np.random.randn(*x.shape) * 0.3\n",
    "\n",
    "\n",
    "model = Sequential()\n",
    "model.add(Dense(1, input_dim=1, activation='linear'))\n",
    "\n",
    "model.compile(optimizer='sgd', loss='mse', metrics=['mse'])\n",
    "\n",
    "weights = model.layers[0].get_weights()\n",
    "w_init = weights[0][0][0]\n",
    "b_init = weights[1][0]\n",
    "print('Linear regression model is initialized with weights w: %.2f, b: %.2f' % (w_init, b_init)) \n",
    "\n",
    "\n",
    "model.fit(x,y, batch_size=1, epochs=30, shuffle=False)\n",
    "\n",
    "weights = model.layers[0].get_weights()\n",
    "w_final = weights[0][0][0]\n",
    "b_final = weights[1][0]\n",
    "print('Linear regression model is trained to have weight w: %.2f, b: %.2f' % (w_final, b_final))\n",
    "\n",
    "predict = model.predict(data)\n",
    "\n",
    "plt.plot(data, predict, 'b', data , y, 'k.')\n",
    "plt.show()"
   ]
  },
  {
   "cell_type": "code",
   "execution_count": 3,
   "metadata": {
    "colab": {
     "base_uri": "https://localhost:8080/",
     "height": 104
    },
    "colab_type": "code",
    "id": "L41kcP-T2YiU",
    "outputId": "8b39a1d9-8875-40e2-c6df-5d7027500cf5"
   },
   "outputs": [
    {
     "name": "stdout",
     "output_type": "stream",
     "text": [
      "WARNING:tensorflow:From /usr/local/lib/python3.6/dist-packages/keras/backend/tensorflow_backend.py:541: The name tf.placeholder is deprecated. Please use tf.compat.v1.placeholder instead.\n",
      "\n",
      "WARNING:tensorflow:From /usr/local/lib/python3.6/dist-packages/keras/backend/tensorflow_backend.py:4432: The name tf.random_uniform is deprecated. Please use tf.random.uniform instead.\n",
      "\n"
     ]
    }
   ],
   "source": []
  },
  {
   "cell_type": "code",
   "execution_count": 0,
   "metadata": {
    "colab": {},
    "colab_type": "code",
    "id": "0yB95slI2mGi"
   },
   "outputs": [],
   "source": []
  },
  {
   "cell_type": "code",
   "execution_count": 5,
   "metadata": {
    "colab": {
     "base_uri": "https://localhost:8080/",
     "height": 50
    },
    "colab_type": "code",
    "id": "-hl3x2L12uru",
    "outputId": "50ef9a4c-17ac-424d-e17c-336068f08d82"
   },
   "outputs": [
    {
     "name": "stdout",
     "output_type": "stream",
     "text": [
      "WARNING:tensorflow:From /usr/local/lib/python3.6/dist-packages/keras/backend/tensorflow_backend.py:4267: The name tf.nn.max_pool is deprecated. Please use tf.nn.max_pool2d instead.\n",
      "\n"
     ]
    }
   ],
   "source": []
  },
  {
   "cell_type": "code",
   "execution_count": 0,
   "metadata": {
    "colab": {},
    "colab_type": "code",
    "id": "EwrvMz5F2xZR"
   },
   "outputs": [],
   "source": []
  },
  {
   "cell_type": "code",
   "execution_count": 7,
   "metadata": {
    "colab": {
     "base_uri": "https://localhost:8080/",
     "height": 121
    },
    "colab_type": "code",
    "id": "4Sq0ymFz22RM",
    "outputId": "65add1fd-383d-4148-c47e-1973a4115f1d"
   },
   "outputs": [
    {
     "name": "stdout",
     "output_type": "stream",
     "text": [
      "WARNING:tensorflow:From /usr/local/lib/python3.6/dist-packages/keras/backend/tensorflow_backend.py:148: The name tf.placeholder_with_default is deprecated. Please use tf.compat.v1.placeholder_with_default instead.\n",
      "\n",
      "WARNING:tensorflow:From /usr/local/lib/python3.6/dist-packages/keras/backend/tensorflow_backend.py:3733: calling dropout (from tensorflow.python.ops.nn_ops) with keep_prob is deprecated and will be removed in a future version.\n",
      "Instructions for updating:\n",
      "Please use `rate` instead of `keep_prob`. Rate should be set to `rate = 1 - keep_prob`.\n"
     ]
    }
   ],
   "source": [
    "model.add(Dropout(0.5))"
   ]
  },
  {
   "cell_type": "code",
   "execution_count": 10,
   "metadata": {
    "colab": {
     "base_uri": "https://localhost:8080/",
     "height": 162
    },
    "colab_type": "code",
    "id": "NYDJ_CHD28dK",
    "outputId": "3ac0c403-5001-4c7f-d862-1355a2187d1a"
   },
   "outputs": [
    {
     "ename": "NameError",
     "evalue": "ignored",
     "output_type": "error",
     "traceback": [
      "\u001b[0;31m---------------------------------------------------------------------------\u001b[0m",
      "\u001b[0;31mNameError\u001b[0m                                 Traceback (most recent call last)",
      "\u001b[0;32m<ipython-input-10-08bff8b6acae>\u001b[0m in \u001b[0;36m<module>\u001b[0;34m()\u001b[0m\n\u001b[0;32m----> 1\u001b[0;31m \u001b[0mmodel\u001b[0m\u001b[0;34m.\u001b[0m\u001b[0mfit\u001b[0m\u001b[0;34m(\u001b[0m\u001b[0mX_train\u001b[0m\u001b[0;34m,\u001b[0m \u001b[0mX_train\u001b[0m\u001b[0;34m,\u001b[0m \u001b[0mbatch_size\u001b[0m\u001b[0;34m=\u001b[0m\u001b[0;36m32\u001b[0m\u001b[0;34m,\u001b[0m \u001b[0mepochs\u001b[0m\u001b[0;34m=\u001b[0m\u001b[0;36m10\u001b[0m\u001b[0;34m,\u001b[0m \u001b[0mvalidation_data\u001b[0m\u001b[0;34m=\u001b[0m\u001b[0;34m(\u001b[0m\u001b[0mx_val\u001b[0m\u001b[0;34m,\u001b[0m \u001b[0my_val\u001b[0m\u001b[0;34m)\u001b[0m\u001b[0;34m)\u001b[0m\u001b[0;34m\u001b[0m\u001b[0;34m\u001b[0m\u001b[0m\n\u001b[0m",
      "\u001b[0;31mNameError\u001b[0m: name 'X_train' is not defined"
     ]
    }
   ],
   "source": []
  },
  {
   "cell_type": "code",
   "execution_count": 0,
   "metadata": {
    "colab": {},
    "colab_type": "code",
    "id": "dWxu1L4I2_WL"
   },
   "outputs": [],
   "source": []
  }
 ],
 "metadata": {
  "colab": {
   "name": "Keras_linear.ipynb",
   "provenance": []
  },
  "kernelspec": {
   "display_name": "Python 3",
   "language": "python",
   "name": "python3"
  },
  "language_info": {
   "codemirror_mode": {
    "name": "ipython",
    "version": 3
   },
   "file_extension": ".py",
   "mimetype": "text/x-python",
   "name": "python",
   "nbconvert_exporter": "python",
   "pygments_lexer": "ipython3",
   "version": "3.6.8"
  }
 },
 "nbformat": 4,
 "nbformat_minor": 1
}
