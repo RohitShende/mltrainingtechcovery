{
 "cells": [
  {
   "cell_type": "code",
   "execution_count": 1,
   "metadata": {},
   "outputs": [
    {
     "name": "stderr",
     "output_type": "stream",
     "text": [
      "Using TensorFlow backend.\n"
     ]
    },
    {
     "name": "stdout",
     "output_type": "stream",
     "text": [
      "Epoch 1/20\n",
      "768/768 [==============================] - 0s 243us/step - loss: 3.1753 - accuracy: 0.5820\n",
      "Epoch 2/20\n",
      "768/768 [==============================] - 0s 88us/step - loss: 0.9556 - accuracy: 0.5716\n",
      "Epoch 3/20\n",
      "768/768 [==============================] - 0s 79us/step - loss: 0.7623 - accuracy: 0.6315\n",
      "Epoch 4/20\n",
      "768/768 [==============================] - 0s 89us/step - loss: 0.7212 - accuracy: 0.6471\n",
      "Epoch 5/20\n",
      "768/768 [==============================] - 0s 91us/step - loss: 0.6940 - accuracy: 0.6745\n",
      "Epoch 6/20\n",
      "768/768 [==============================] - 0s 81us/step - loss: 0.6683 - accuracy: 0.6862\n",
      "Epoch 7/20\n",
      "768/768 [==============================] - 0s 84us/step - loss: 0.6626 - accuracy: 0.6745\n",
      "Epoch 8/20\n",
      "768/768 [==============================] - 0s 81us/step - loss: 0.6480 - accuracy: 0.6862\n",
      "Epoch 9/20\n",
      "768/768 [==============================] - 0s 84us/step - loss: 0.6346 - accuracy: 0.6992\n",
      "Epoch 10/20\n",
      "768/768 [==============================] - 0s 80us/step - loss: 0.6432 - accuracy: 0.6810\n",
      "Epoch 11/20\n",
      "768/768 [==============================] - 0s 79us/step - loss: 0.6572 - accuracy: 0.6706\n",
      "Epoch 12/20\n",
      "768/768 [==============================] - 0s 79us/step - loss: 0.6491 - accuracy: 0.6706\n",
      "Epoch 13/20\n",
      "768/768 [==============================] - 0s 78us/step - loss: 0.6331 - accuracy: 0.6797\n",
      "Epoch 14/20\n",
      "768/768 [==============================] - 0s 80us/step - loss: 0.6241 - accuracy: 0.6979\n",
      "Epoch 15/20\n",
      "768/768 [==============================] - 0s 81us/step - loss: 0.6051 - accuracy: 0.7031\n",
      "Epoch 16/20\n",
      "768/768 [==============================] - 0s 82us/step - loss: 0.5892 - accuracy: 0.7044\n",
      "Epoch 17/20\n",
      "768/768 [==============================] - 0s 77us/step - loss: 0.5853 - accuracy: 0.7031\n",
      "Epoch 18/20\n",
      "768/768 [==============================] - 0s 82us/step - loss: 0.5935 - accuracy: 0.6914\n",
      "Epoch 19/20\n",
      "768/768 [==============================] - 0s 75us/step - loss: 0.5775 - accuracy: 0.7122\n",
      "Epoch 20/20\n",
      "768/768 [==============================] - 0s 78us/step - loss: 0.5774 - accuracy: 0.7279\n",
      "768/768 [==============================] - 0s 35us/step\n",
      "\n",
      "accuracy: 73.57%\n"
     ]
    }
   ],
   "source": [
    "# Create your first MLP in Keras\n",
    "from keras.models import Sequential\n",
    "from keras.layers import Dense\n",
    "import numpy\n",
    "# fix random seed for reproducibility\n",
    "numpy.random.seed(7)\n",
    "# load pima indians dataset\n",
    "dataset = numpy.loadtxt(\"pima-indians-diabetes.csv\", delimiter=\",\")\n",
    "# split into input (X) and output (Y) variables\n",
    "X = dataset[:,0:8]\n",
    "Y = dataset[:,8]\n",
    "# create model\n",
    "model = Sequential()\n",
    "model.add(Dense(12, input_dim=8, activation='relu'))\n",
    "model.add(Dense(8, activation='relu'))\n",
    "model.add(Dense(1, activation='sigmoid'))\n",
    "# Compile model\n",
    "model.compile(loss='binary_crossentropy', optimizer='adam', metrics=['accuracy'])\n",
    "# Fit the model\n",
    "model.fit(X, Y, epochs=20, batch_size=10)\n",
    "# evaluate the model\n",
    "scores = model.evaluate(X, Y)\n",
    "print(\"\\n%s: %.2f%%\" % (model.metrics_names[1], scores[1]*100))"
   ]
  },
  {
   "cell_type": "code",
   "execution_count": null,
   "metadata": {},
   "outputs": [],
   "source": []
  }
 ],
 "metadata": {
  "kernelspec": {
   "display_name": "Python 3",
   "language": "python",
   "name": "python3"
  },
  "language_info": {
   "codemirror_mode": {
    "name": "ipython",
    "version": 3
   },
   "file_extension": ".py",
   "mimetype": "text/x-python",
   "name": "python",
   "nbconvert_exporter": "python",
   "pygments_lexer": "ipython3",
   "version": "3.7.4"
  }
 },
 "nbformat": 4,
 "nbformat_minor": 2
}
