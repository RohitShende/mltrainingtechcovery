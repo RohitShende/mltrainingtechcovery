{
 "cells": [
  {
   "cell_type": "code",
   "execution_count": 4,
   "metadata": {
    "colab": {
     "base_uri": "https://localhost:8080/",
     "height": 1000
    },
    "colab_type": "code",
    "id": "cp3unxbg2UyZ",
    "outputId": "7e7c9d49-55a4-48f9-f7ea-b0c84d5e4435"
   },
   "outputs": [
    {
     "name": "stdout",
     "output_type": "stream",
     "text": [
      "Linear regression model is initialized with weights w: 1.11, b: 0.00\n",
      "Epoch 1/30\n",
      "200/200 [==============================] - 0s 783us/step - loss: 0.7145 - mean_squared_error: 0.7145\n",
      "Epoch 2/30\n",
      "200/200 [==============================] - 0s 573us/step - loss: 0.1219 - mean_squared_error: 0.1219\n",
      "Epoch 3/30\n",
      "200/200 [==============================] - 0s 566us/step - loss: 0.1188 - mean_squared_error: 0.1188\n",
      "Epoch 4/30\n",
      "200/200 [==============================] - 0s 574us/step - loss: 0.1159 - mean_squared_error: 0.1159\n",
      "Epoch 5/30\n",
      "200/200 [==============================] - 0s 588us/step - loss: 0.1133 - mean_squared_error: 0.1133\n",
      "Epoch 6/30\n",
      "200/200 [==============================] - 0s 566us/step - loss: 0.1109 - mean_squared_error: 0.1109\n",
      "Epoch 7/30\n",
      "200/200 [==============================] - 0s 564us/step - loss: 0.1087 - mean_squared_error: 0.1087\n",
      "Epoch 8/30\n",
      "200/200 [==============================] - 0s 568us/step - loss: 0.1067 - mean_squared_error: 0.1067\n",
      "Epoch 9/30\n",
      "200/200 [==============================] - 0s 579us/step - loss: 0.1048 - mean_squared_error: 0.1048\n",
      "Epoch 10/30\n",
      "200/200 [==============================] - 0s 571us/step - loss: 0.1032 - mean_squared_error: 0.1032\n",
      "Epoch 11/30\n",
      "200/200 [==============================] - 0s 565us/step - loss: 0.1016 - mean_squared_error: 0.1016\n",
      "Epoch 12/30\n",
      "200/200 [==============================] - 0s 600us/step - loss: 0.1002 - mean_squared_error: 0.1002\n",
      "Epoch 13/30\n",
      "200/200 [==============================] - 0s 594us/step - loss: 0.0990 - mean_squared_error: 0.0990\n",
      "Epoch 14/30\n",
      "200/200 [==============================] - 0s 596us/step - loss: 0.0978 - mean_squared_error: 0.0978\n",
      "Epoch 15/30\n",
      "200/200 [==============================] - 0s 592us/step - loss: 0.0967 - mean_squared_error: 0.0967\n",
      "Epoch 16/30\n",
      "200/200 [==============================] - 0s 572us/step - loss: 0.0958 - mean_squared_error: 0.0958\n",
      "Epoch 17/30\n",
      "200/200 [==============================] - 0s 571us/step - loss: 0.0949 - mean_squared_error: 0.0949\n",
      "Epoch 18/30\n",
      "200/200 [==============================] - 0s 593us/step - loss: 0.0941 - mean_squared_error: 0.0941\n",
      "Epoch 19/30\n",
      "200/200 [==============================] - 0s 597us/step - loss: 0.0934 - mean_squared_error: 0.0934\n",
      "Epoch 20/30\n",
      "200/200 [==============================] - 0s 611us/step - loss: 0.0927 - mean_squared_error: 0.0927\n",
      "Epoch 21/30\n",
      "200/200 [==============================] - 0s 574us/step - loss: 0.0921 - mean_squared_error: 0.0921\n",
      "Epoch 22/30\n",
      "200/200 [==============================] - 0s 565us/step - loss: 0.0915 - mean_squared_error: 0.0915\n",
      "Epoch 23/30\n",
      "200/200 [==============================] - 0s 594us/step - loss: 0.0910 - mean_squared_error: 0.0910\n",
      "Epoch 24/30\n",
      "200/200 [==============================] - 0s 591us/step - loss: 0.0906 - mean_squared_error: 0.0906\n",
      "Epoch 25/30\n",
      "200/200 [==============================] - 0s 589us/step - loss: 0.0902 - mean_squared_error: 0.0902\n",
      "Epoch 26/30\n",
      "200/200 [==============================] - 0s 590us/step - loss: 0.0898 - mean_squared_error: 0.0898\n",
      "Epoch 27/30\n",
      "200/200 [==============================] - 0s 584us/step - loss: 0.0895 - mean_squared_error: 0.0895\n",
      "Epoch 28/30\n",
      "200/200 [==============================] - 0s 597us/step - loss: 0.0892 - mean_squared_error: 0.0892\n",
      "Epoch 29/30\n",
      "200/200 [==============================] - 0s 594us/step - loss: 0.0889 - mean_squared_error: 0.0889\n",
      "Epoch 30/30\n",
      "200/200 [==============================] - 0s 595us/step - loss: 0.0886 - mean_squared_error: 0.0886\n",
      "Linear regression model is trained to have weight w: 3.82, b: 0.46\n"
     ]
    },
    {
     "data": {
      "image/png": "[encoded data removed]",
      "text/plain": [
       "<Figure size 432x288 with 1 Axes>"
      ]
     },
     "metadata": {},
     "output_type": "display_data"
    }
   ],
   "source": [
    "import keras\n",
    "from keras.models import Sequential\n",
    "from keras.layers import Dense, Activation\n",
    "import numpy as np\n",
    "import matplotlib.pyplot as plt \n",
    "%matplotlib inline\n",
    " \n",
    "x = data = np.linspace(1,2,200)\n",
    "y = x*4 + np.random.randn(*x.shape) * 0.3\n",
    "\n",
    "\n",
    "model = Sequential()\n",
    "model.add(Dense(1, input_dim=1, activation='linear'))\n",
    "\n",
    "model.compile(optimizer='sgd', loss='mse', metrics=['mse'])\n",
    "\n",
    "weights = model.layers[0].get_weights()\n",
    "w_init = weights[0][0][0]\n",
    "b_init = weights[1][0]\n",
    "print('Linear regression model is initialized with weights w: %.2f, b: %.2f' % (w_init, b_init)) \n",
    "\n",
    "\n",
    "model.fit(x,y, batch_size=1, epochs=30, shuffle=False)\n",
    "\n",
    "weights = model.layers[0].get_weights()\n",
    "w_final = weights[0][0][0]\n",
    "b_final = weights[1][0]\n",
    "print('Linear regression model is trained to have weight w: %.2f, b: %.2f' % (w_final, b_final))\n",
    "\n",
    "predict = model.predict(data)\n",
    "\n",
    "plt.plot(data, predict, 'b', data , y, 'k.')\n",
    "plt.show()"
   ]
  },
  {
   "cell_type": "code",
   "execution_count": 0,
   "metadata": {
    "colab": {},
    "colab_type": "code",
    "id": "dWxu1L4I2_WL"
   },
   "outputs": [],
   "source": []
  }
 ],
 "metadata": {
  "colab": {
   "name": "Keras_linear.ipynb",
   "provenance": []
  },
  "kernelspec": {
   "display_name": "Python 3",
   "language": "python",
   "name": "python3"
  },
  "language_info": {
   "codemirror_mode": {
    "name": "ipython",
    "version": 3
   },
   "file_extension": ".py",
   "mimetype": "text/x-python",
   "name": "python",
   "nbconvert_exporter": "python",
   "pygments_lexer": "ipython3",
   "version": "3.7.4"
  }
 },
 "nbformat": 4,
 "nbformat_minor": 1
}
